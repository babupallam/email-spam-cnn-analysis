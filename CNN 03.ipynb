{
 "cells": [
  {
   "cell_type": "markdown",
   "metadata": {},
   "source": [
    "## Email span detection using Convolutional Neural Networks(CNN) with Sequential API \n"
   ]
  },
  {
   "cell_type": "markdown",
   "metadata": {},
   "source": [
    "# Variant 3: CNN with Bidirectional LSTM and GlobalMaxPooling1D\n"
   ]
  },
  {
   "cell_type": "code",
   "execution_count": 1,
   "metadata": {},
   "outputs": [],
   "source": [
    "import pandas as pd\n",
    "import numpy as np\n",
    "from sklearn.model_selection import train_test_split\n",
    "from sklearn.preprocessing import LabelEncoder\n",
    "from tensorflow.keras.preprocessing.text import Tokenizer\n",
    "from tensorflow.keras.preprocessing.sequence import pad_sequences\n",
    "from tensorflow.keras.models import Sequential\n",
    "from tensorflow.keras.layers import Embedding, Conv1D, GlobalMaxPooling1D, Dense, Bidirectional, Dropout, LSTM\n",
    "from tensorflow.keras.optimizers import SGD, Adam, RMSprop\n"
   ]
  },
  {
   "cell_type": "markdown",
   "metadata": {},
   "source": [
    "### STEP 0: Preprocessing Data"
   ]
  },
  {
   "cell_type": "code",
   "execution_count": 2,
   "metadata": {},
   "outputs": [],
   "source": [
    "\n",
    "#Load the dataset\n",
    "data = pd.read_csv('test_data.csv')\n",
    "\n",
    "# Convert text in 'message' column to lowercase\n",
    "data['Message'] = data['Message'].apply(lambda x: x.lower())\n"
   ]
  },
  {
   "cell_type": "markdown",
   "metadata": {},
   "source": [
    "### STEP 1: Data Splitting"
   ]
  },
  {
   "cell_type": "code",
   "execution_count": 3,
   "metadata": {},
   "outputs": [
    {
     "name": "stdout",
     "output_type": "stream",
     "text": [
      "Training data shape: (4457,), Training labels shape: (4457,)\n",
      "Test data shape: (1115,), Test labels shape: (1115,)\n"
     ]
    }
   ],
   "source": [
    "\n",
    "#LabelEncoder is a utility class in scikit-learn that converts categorical labels into numerical labels.\n",
    "label_encoder = LabelEncoder()\n",
    "#Assign 'Category' column in the data DataFrame.\n",
    "data['Category'] = label_encoder.fit_transform(data['Category'])\n",
    "# Split the dataset into training and testing sets\n",
    "X_train, X_test, y_train, y_test = train_test_split(data['Message'], data['Category'], test_size=0.2, random_state=30)\n",
    "\n",
    "\n",
    "print(f\"Training data shape: {X_train.shape}, Training labels shape: {y_train.shape}\")\n",
    "print(f\"Test data shape: {X_test.shape}, Test labels shape: {y_test.shape}\")"
   ]
  },
  {
   "cell_type": "markdown",
   "metadata": {},
   "source": [
    "### STEP 2: Model Architecture Design"
   ]
  },
  {
   "cell_type": "code",
   "execution_count": 4,
   "metadata": {},
   "outputs": [
    {
     "name": "stderr",
     "output_type": "stream",
     "text": [
      "c:\\Users\\Girija\\Desktop\\AI Msc\\BLOCK 04 Research Methods and Applications\\PART B\\ASSESSMENT 3\\SDS_CNN\\.venv\\lib\\site-packages\\keras\\src\\layers\\core\\embedding.py:90: UserWarning: Argument `input_length` is deprecated. Just remove it.\n",
      "  warnings.warn(\n"
     ]
    }
   ],
   "source": [
    "# Tokenize the text data\n",
    "maximum_words_to_consider = 1000 # This variable determines the maximum number of unique words to be considered in the tokenizer. In this case, it's set to 1000, meaning only the top 1000 most frequent words will be considered.\n",
    "\n",
    "tokenizer = Tokenizer(num_words=maximum_words_to_consider) #Tokenizer is a class from the Keras library used for tokenizing text data.\n",
    "#num_words is a parameter that specifies the maximum number of words to keep, based on word frequency. Words outside this limit will be ignored.\n",
    "tokenizer.fit_on_texts(X_train)\n",
    "\n",
    "# Convert training and testing text data to sequences using the tokenizer\n",
    "X_train_sequences = tokenizer.texts_to_sequences(X_train)\n",
    "X_test_sequences = tokenizer.texts_to_sequences(X_test)\n",
    "\n",
    "# Set the maximum sequence length\n",
    "maximum_sequence_length = 100\n",
    "\n",
    "# Pad the sequences to ensure uniform length\n",
    "X_train_padded = pad_sequences(X_train_sequences, maxlen=maximum_sequence_length)\n",
    "X_test_padded = pad_sequences(X_test_sequences, maxlen=maximum_sequence_length)\n",
    "\n",
    "# Define parameters for the embedding layer\n",
    "embedding_dimension = 50\n",
    "\n",
    "# Define parameters for the convolutional layer\n",
    "number_of_filters = 64\n",
    "filter_kernel_size = 5\n",
    "\n",
    "# Build the sequential model\n",
    "model = Sequential([\n",
    "    # Embedding Layer\n",
    "    Embedding(input_dim=maximum_words_to_consider, output_dim=embedding_dimension, input_length=maximum_sequence_length),\n",
    "    # Convolutional Layer 1 -- padding=\"same\" means input and output have same spatial dimension\n",
    "    Conv1D(filters=number_of_filters, kernel_size=filter_kernel_size, padding='same', activation='relu'),\n",
    "    Bidirectional(LSTM(64, return_sequences=True)),  # Bidirectional LSTM Layer\n",
    "    GlobalMaxPooling1D(),  # Apply GlobalMaxPooling1D\n",
    "    Dense(128, activation='relu'),\n",
    "    Dropout(0.5),\n",
    "    # Output Layer\n",
    "    Dense(1, activation='sigmoid')\n",
    "])\n"
   ]
  },
  {
   "cell_type": "markdown",
   "metadata": {},
   "source": [
    "### STEP 3: Model Compilation"
   ]
  },
  {
   "cell_type": "code",
   "execution_count": 5,
   "metadata": {},
   "outputs": [],
   "source": [
    "\n",
    "\n",
    "# Compiles the model with the Adam optimizer, binary crossentropy loss function, and accuracy metric.\n",
    "\n",
    "model.compile(optimizer='adam', loss='binary_crossentropy', metrics=[\"accuracy\"])\n"
   ]
  },
  {
   "cell_type": "markdown",
   "metadata": {},
   "source": [
    "### STEP 4: Model Training"
   ]
  },
  {
   "cell_type": "code",
   "execution_count": 6,
   "metadata": {},
   "outputs": [
    {
     "name": "stdout",
     "output_type": "stream",
     "text": [
      "Epoch 1/5\n",
      "\u001b[1m70/70\u001b[0m \u001b[32m━━━━━━━━━━━━━━━━━━━━\u001b[0m\u001b[37m\u001b[0m \u001b[1m10s\u001b[0m 71ms/step - accuracy: 0.8488 - loss: 0.4696 - val_accuracy: 0.9767 - val_loss: 0.0804\n",
      "Epoch 2/5\n",
      "\u001b[1m70/70\u001b[0m \u001b[32m━━━━━━━━━━━━━━━━━━━━\u001b[0m\u001b[37m\u001b[0m \u001b[1m6s\u001b[0m 83ms/step - accuracy: 0.9790 - loss: 0.0835 - val_accuracy: 0.9874 - val_loss: 0.0476\n",
      "Epoch 3/5\n",
      "\u001b[1m70/70\u001b[0m \u001b[32m━━━━━━━━━━━━━━━━━━━━\u001b[0m\u001b[37m\u001b[0m \u001b[1m6s\u001b[0m 91ms/step - accuracy: 0.9929 - loss: 0.0280 - val_accuracy: 0.9857 - val_loss: 0.0456\n",
      "Epoch 4/5\n",
      "\u001b[1m70/70\u001b[0m \u001b[32m━━━━━━━━━━━━━━━━━━━━\u001b[0m\u001b[37m\u001b[0m \u001b[1m6s\u001b[0m 86ms/step - accuracy: 0.9930 - loss: 0.0351 - val_accuracy: 0.9865 - val_loss: 0.0491\n",
      "Epoch 5/5\n",
      "\u001b[1m70/70\u001b[0m \u001b[32m━━━━━━━━━━━━━━━━━━━━\u001b[0m\u001b[37m\u001b[0m \u001b[1m6s\u001b[0m 84ms/step - accuracy: 0.9962 - loss: 0.0218 - val_accuracy: 0.9857 - val_loss: 0.0481\n"
     ]
    }
   ],
   "source": [
    " # Define the number of epochs (iterations over the entire dataset) for training the model\n",
    "number_of_epochs = 5\n",
    "batch_size = 64\n",
    "\n",
    "# Fit the model to the training data, specifying batch size, number of epochs, and validation data\n",
    "history = model.fit(X_train_padded, y_train, batch_size=batch_size, epochs=number_of_epochs, validation_data=(X_test_padded, y_test))\n",
    "\n"
   ]
  },
  {
   "cell_type": "code",
   "execution_count": 7,
   "metadata": {},
   "outputs": [],
   "source": [
    "import matplotlib.pyplot as plt"
   ]
  },
  {
   "cell_type": "code",
   "execution_count": 8,
   "metadata": {},
   "outputs": [
    {
     "name": "stdout",
     "output_type": "stream",
     "text": [
      "dict_keys(['accuracy', 'loss', 'val_accuracy', 'val_loss'])\n"
     ]
    },
    {
     "data": {
      "image/png": "[encoded data removed]",
      "text/plain": [
       "<Figure size 1200x400 with 2 Axes>"
      ]
     },
     "metadata": {},
     "output_type": "display_data"
    }
   ],
   "source": [
    "def plot_model_history(history):\n",
    "    # values to plot\n",
    "    #  loss: loss value for training data\n",
    "    #  accuracy: accuracy value for training data\n",
    "    #  val_loss: loss value for validation data\n",
    "    #  val_accuracy: accuracy value for validation data\n",
    "    print(history.history.keys())\n",
    "\n",
    "    # Plot training & validation accuracy values\n",
    "    plt.figure(figsize=(12, 4))\n",
    "\n",
    "    plt.subplot(1, 2, 1)\n",
    "    plt.plot(history.history['accuracy'])\n",
    "    plt.plot(history.history['val_accuracy'])\n",
    "    plt.title('Model accuracy')\n",
    "    plt.ylabel('Accuracy')\n",
    "    plt.xlabel('Epoch')\n",
    "    plt.legend(['Training Accuracy', 'Validation Accuracy'], loc='upper left')\n",
    "\n",
    "    # Plot training & validation loss values\n",
    "    plt.subplot(1, 2, 2)\n",
    "    plt.plot(history.history['loss'])\n",
    "    plt.plot(history.history['val_loss'])\n",
    "    plt.title('Model loss')\n",
    "    plt.ylabel('Loss')\n",
    "    plt.xlabel('Epoch')\n",
    "    plt.legend(['Training Loss', 'Validation Loss'], loc='upper left')\n",
    "    plt.show()\n",
    "\n",
    "plot_model_history(history)"
   ]
  },
  {
   "cell_type": "markdown",
   "metadata": {},
   "source": [
    "## Predict Single Input"
   ]
  },
  {
   "cell_type": "code",
   "execution_count": 9,
   "metadata": {},
   "outputs": [],
   "source": [
    "# spam or ham prediction\n",
    "def predict_spam_or_ham(message):\n",
    "    # Tokenize and pad the input message\n",
    "    message_sequences = tokenizer.texts_to_sequences([message])\n",
    "    message_padded = pad_sequences(message_sequences, maxlen=maximum_sequence_length)\n",
    "    \n",
    "    # Make predictions\n",
    "    prediction = model.predict(message_padded)\n",
    "    \n",
    "    print(prediction)\n",
    "    # Convert prediction to label (0 for ham, 1 for spam)\n",
    "    label = \"spam\" if prediction[0][0] > 0.5 else \"ham\"\n",
    "    \n",
    "    return label\n"
   ]
  },
  {
   "cell_type": "code",
   "execution_count": 10,
   "metadata": {},
   "outputs": [
    {
     "name": "stdout",
     "output_type": "stream",
     "text": [
      "\u001b[1m1/1\u001b[0m \u001b[32m━━━━━━━━━━━━━━━━━━━━\u001b[0m\u001b[37m\u001b[0m \u001b[1m0s\u001b[0m 333ms/step\n",
      "[[0.9999756]]\n",
      "Predicted Label: spam\n"
     ]
    }
   ],
   "source": [
    "\n",
    "# Example message\n",
    "example_message = \"Congratulations! You've won a free trip to Hawaii. Claim your prize now!\"\n",
    "\n",
    "# Predict if the message is spam or ham\n",
    "prediction = predict_spam_or_ham(example_message)\n",
    "print(\"Predicted Label:\", prediction)"
   ]
  },
  {
   "cell_type": "code",
   "execution_count": 11,
   "metadata": {},
   "outputs": [
    {
     "name": "stdout",
     "output_type": "stream",
     "text": [
      "\u001b[1m1/1\u001b[0m \u001b[32m━━━━━━━━━━━━━━━━━━━━\u001b[0m\u001b[37m\u001b[0m \u001b[1m0s\u001b[0m 30ms/step\n",
      "[[0.14946608]]\n",
      "Predicted Label: ham\n"
     ]
    }
   ],
   "source": [
    "\n",
    "# Example message\n",
    "example_message = \"This email provides relevant information about an upcoming programming workshop and encourages the recipient to RSVP if interested. It does not contain any elements typically associated with spam, such as unsolicited offers, suspicious links, or irrelevant content.\"\n",
    "\n",
    "# Predict if the message is spam or ham\n",
    "prediction = predict_spam_or_ham(example_message)\n",
    "print(\"Predicted Label:\", prediction)"
   ]
  },
  {
   "cell_type": "markdown",
   "metadata": {},
   "source": [
    "# Performance Analysis"
   ]
  },
  {
   "cell_type": "markdown",
   "metadata": {},
   "source": [
    "## Model Evaluation"
   ]
  },
  {
   "cell_type": "markdown",
   "metadata": {},
   "source": [
    "1. **Accuracy**: Measure the overall accuracy of the model on the test dataset.\n"
   ]
  },
  {
   "cell_type": "code",
   "execution_count": 12,
   "metadata": {},
   "outputs": [
    {
     "name": "stdout",
     "output_type": "stream",
     "text": [
      "\u001b[1m35/35\u001b[0m \u001b[32m━━━━━━━━━━━━━━━━━━━━\u001b[0m\u001b[37m\u001b[0m \u001b[1m1s\u001b[0m 16ms/step - accuracy: 0.9858 - loss: 0.0497\n",
      "Test Accuracy: 0.9856502413749695\n"
     ]
    }
   ],
   "source": [
    "\n",
    "# Evaluate the model\n",
    "loss, accuracy = model.evaluate(X_test_padded, y_test)\n",
    "print(\"Test Accuracy:\", accuracy)\n"
   ]
  },
  {
   "cell_type": "markdown",
   "metadata": {},
   "source": [
    "2. **Precision**: Evaluate how many of the predicted positives are actual positives.\n"
   ]
  },
  {
   "cell_type": "code",
   "execution_count": 13,
   "metadata": {},
   "outputs": [],
   "source": [
    "\n",
    "from sklearn.metrics import precision_score"
   ]
  },
  {
   "cell_type": "code",
   "execution_count": 14,
   "metadata": {},
   "outputs": [
    {
     "name": "stdout",
     "output_type": "stream",
     "text": [
      "\u001b[1m35/35\u001b[0m \u001b[32m━━━━━━━━━━━━━━━━━━━━\u001b[0m\u001b[37m\u001b[0m \u001b[1m1s\u001b[0m 17ms/step\n",
      "Precision: 0.95\n"
     ]
    }
   ],
   "source": [
    "\n",
    "# Predict probabilities ( the output is in probability, bacuse we use a sigmoid activation function in the final layer of your neural network, which outputs probabilities between 0 and 1.)\n",
    "y_pred_prob = model.predict(X_test_padded)\n",
    "\n",
    "\n",
    "#note that common threshold value is 0.5\n",
    "# Convert probabilities to binary class labels\n",
    "y_pred = (y_pred_prob > 0.5).astype(int)\n",
    "\n",
    "\n",
    "# Calculate precision\n",
    "precision = precision_score(y_test, y_pred)\n",
    "print(f'Precision: {precision:.2f}')"
   ]
  },
  {
   "cell_type": "markdown",
   "metadata": {},
   "source": [
    "3. **Recall**: Determine how many of the actual positives are correctly identified by the model.\n"
   ]
  },
  {
   "cell_type": "code",
   "execution_count": 15,
   "metadata": {},
   "outputs": [],
   "source": [
    "from sklearn.metrics import recall_score\n"
   ]
  },
  {
   "cell_type": "code",
   "execution_count": 16,
   "metadata": {},
   "outputs": [
    {
     "name": "stdout",
     "output_type": "stream",
     "text": [
      "Recall: 0.93\n"
     ]
    }
   ],
   "source": [
    "\n",
    "# Calculate recall\n",
    "recall = recall_score(y_test, y_pred)\n",
    "print(f'Recall: {recall:.2f}')"
   ]
  },
  {
   "cell_type": "markdown",
   "metadata": {},
   "source": [
    "4. **F1 Score**: Calculate the harmonic mean of precision and recall to get a single performance metric.\n"
   ]
  },
  {
   "cell_type": "code",
   "execution_count": 17,
   "metadata": {},
   "outputs": [],
   "source": [
    "from sklearn.metrics import f1_score\n"
   ]
  },
  {
   "cell_type": "code",
   "execution_count": 18,
   "metadata": {},
   "outputs": [
    {
     "name": "stdout",
     "output_type": "stream",
     "text": [
      "F1 Score: 1.00\n"
     ]
    }
   ],
   "source": [
    "\n",
    "# Assuming y_true and y_pred are the true labels and predicted labels, respectively\n",
    "f1 = f1_score(y_pred, y_pred)\n",
    "# Calculate F1 score\n",
    "print(f'F1 Score: {f1:.2f}')"
   ]
  },
  {
   "cell_type": "markdown",
   "metadata": {},
   "source": [
    "5. **ROC Curve**: The Receiver Operating Characteristic (ROC) curve plots the true positive rate (TPR) against the false positive rate (FPR) at various threshold settings.\n",
    "The Area Under the ROC Curve (AUC-ROC) quantifies the performance of the model across all possible classification thresholds. A higher AUC-ROC value indicates better discrimination between spam and non-spam classes."
   ]
  },
  {
   "cell_type": "code",
   "execution_count": 19,
   "metadata": {},
   "outputs": [
    {
     "name": "stdout",
     "output_type": "stream",
     "text": [
      "\u001b[1m35/35\u001b[0m \u001b[32m━━━━━━━━━━━━━━━━━━━━\u001b[0m\u001b[37m\u001b[0m \u001b[1m1s\u001b[0m 18ms/step\n"
     ]
    },
    {
     "data": {
      "image/png": "[encoded data removed]",
      "text/plain": [
       "<Figure size 640x480 with 1 Axes>"
      ]
     },
     "metadata": {},
     "output_type": "display_data"
    }
   ],
   "source": [
    "import matplotlib.pyplot as plt\n",
    "from sklearn.metrics import roc_curve, auc\n",
    "\n",
    "# Step 9: Make predictions on the test set\n",
    "predicted_probabilities = model.predict(X_test_padded)\n",
    "\n",
    "# Step 10: Compute ROC curve and AUC-ROC\n",
    "false_positive_rate, true_positive_rate, thresholds = roc_curve(y_test, predicted_probabilities)\n",
    "roc_area_under_curve = auc(false_positive_rate, true_positive_rate)\n",
    "\n",
    "# Step 11: Plot ROC curve\n",
    "plt.figure()\n",
    "plt.plot(false_positive_rate, true_positive_rate, color='darkorange', lw=2, label='ROC curve (area = %0.2f)' % roc_area_under_curve)\n",
    "plt.plot([0, 1], [0, 1], color='navy', lw=2, linestyle='--')\n",
    "plt.xlim([0.0, 1.0])\n",
    "plt.ylim([0.0, 1.05])\n",
    "plt.xlabel('False Positive Rate')\n",
    "plt.ylabel('True Positive Rate')\n",
    "plt.title('Receiver Operating Characteristic (ROC) Curve')\n",
    "plt.legend(loc='lower right')\n",
    "plt.show()\n"
   ]
  },
  {
   "cell_type": "markdown",
   "metadata": {},
   "source": [
    "6. **Confusion Matrix**: Analyze the confusion matrix to understand the true positives, false positives, true negatives, and false negatives.\n"
   ]
  },
  {
   "cell_type": "code",
   "execution_count": 20,
   "metadata": {},
   "outputs": [],
   "source": [
    "from sklearn.metrics import confusion_matrix\n"
   ]
  },
  {
   "cell_type": "code",
   "execution_count": 21,
   "metadata": {},
   "outputs": [
    {
     "name": "stdout",
     "output_type": "stream",
     "text": [
      "Confusion Matrix:\n",
      "[[973   6]\n",
      " [ 10 126]]\n"
     ]
    }
   ],
   "source": [
    "\n",
    "# Confusion matrix\n",
    "conf_matrix = confusion_matrix(y_test, y_pred)\n",
    "print(\"Confusion Matrix:\")\n",
    "print(conf_matrix)"
   ]
  },
  {
   "cell_type": "markdown",
   "metadata": {},
   "source": [
    "plot confusion matrix"
   ]
  },
  {
   "cell_type": "code",
   "execution_count": 22,
   "metadata": {},
   "outputs": [],
   "source": [
    "import seaborn as sns\n",
    "import matplotlib.pyplot as plt"
   ]
  },
  {
   "cell_type": "code",
   "execution_count": 23,
   "metadata": {},
   "outputs": [
    {
     "data": {
      "image/png": "[encoded data removed]",
      "text/plain": [
       "<Figure size 640x480 with 2 Axes>"
      ]
     },
     "metadata": {},
     "output_type": "display_data"
    }
   ],
   "source": [
    "# Plot confusion matrix\n",
    "sns.heatmap(conf_matrix, annot=True, cmap='Blues', fmt='g')\n",
    "plt.xlabel('Predicted labels')\n",
    "plt.ylabel('True labels')\n",
    "plt.title('Confusion Matrix')\n",
    "plt.show()\n"
   ]
  },
  {
   "cell_type": "markdown",
   "metadata": {},
   "source": [
    "## Resource Utilization\n"
   ]
  },
  {
   "cell_type": "markdown",
   "metadata": {},
   "source": [
    "1. **Training Time**: Measure the time taken to train the model."
   ]
  },
  {
   "cell_type": "code",
   "execution_count": 24,
   "metadata": {},
   "outputs": [],
   "source": [
    "import time"
   ]
  },
  {
   "cell_type": "code",
   "execution_count": 25,
   "metadata": {},
   "outputs": [
    {
     "name": "stdout",
     "output_type": "stream",
     "text": [
      "Epoch 1/5\n",
      "\u001b[1m70/70\u001b[0m \u001b[32m━━━━━━━━━━━━━━━━━━━━\u001b[0m\u001b[37m\u001b[0m \u001b[1m6s\u001b[0m 87ms/step - accuracy: 0.9981 - loss: 0.0079 - val_accuracy: 0.9857 - val_loss: 0.0625\n",
      "Epoch 2/5\n",
      "\u001b[1m70/70\u001b[0m \u001b[32m━━━━━━━━━━━━━━━━━━━━\u001b[0m\u001b[37m\u001b[0m \u001b[1m6s\u001b[0m 82ms/step - accuracy: 0.9988 - loss: 0.0064 - val_accuracy: 0.9848 - val_loss: 0.0745\n",
      "Epoch 3/5\n",
      "\u001b[1m70/70\u001b[0m \u001b[32m━━━━━━━━━━━━━━━━━━━━\u001b[0m\u001b[37m\u001b[0m \u001b[1m6s\u001b[0m 87ms/step - accuracy: 0.9990 - loss: 0.0035 - val_accuracy: 0.9848 - val_loss: 0.0901\n",
      "Epoch 4/5\n",
      "\u001b[1m70/70\u001b[0m \u001b[32m━━━━━━━━━━━━━━━━━━━━\u001b[0m\u001b[37m\u001b[0m \u001b[1m6s\u001b[0m 89ms/step - accuracy: 0.9981 - loss: 0.0029 - val_accuracy: 0.9848 - val_loss: 0.1023\n",
      "Epoch 5/5\n",
      "\u001b[1m70/70\u001b[0m \u001b[32m━━━━━━━━━━━━━━━━━━━━\u001b[0m\u001b[37m\u001b[0m \u001b[1m6s\u001b[0m 88ms/step - accuracy: 0.9980 - loss: 0.0045 - val_accuracy: 0.9857 - val_loss: 0.1119\n",
      "Training time: 30.44 seconds\n"
     ]
    }
   ],
   "source": [
    "\n",
    "# Measure the training time\n",
    "start_time = time.time()\n",
    "\n",
    "# Train the model\n",
    "history = model.fit(X_train_padded, y_train, batch_size=batch_size, epochs=number_of_epochs, validation_data=(X_test_padded, y_test))\n",
    "\n",
    "end_time = time.time()\n",
    "training_time = end_time - start_time\n",
    "print(f\"Training time: {training_time:.2f} seconds\")"
   ]
  },
  {
   "cell_type": "markdown",
   "metadata": {},
   "source": [
    "2. **Inference Time**: Check the time taken for the model to make predictions.\n"
   ]
  },
  {
   "cell_type": "code",
   "execution_count": 26,
   "metadata": {},
   "outputs": [
    {
     "name": "stdout",
     "output_type": "stream",
     "text": [
      "\u001b[1m35/35\u001b[0m \u001b[32m━━━━━━━━━━━━━━━━━━━━\u001b[0m\u001b[37m\u001b[0m \u001b[1m1s\u001b[0m 27ms/step\n",
      "Inference Time: 1.1433 seconds\n"
     ]
    }
   ],
   "source": [
    "\n",
    "# Measure inference time\n",
    "start_time = time.time()\n",
    "y_pred_prob = model.predict(X_test_padded)\n",
    "end_time = time.time()\n",
    "inference_time = end_time - start_time\n",
    "print(f'Inference Time: {inference_time:.4f} seconds')\n"
   ]
  },
  {
   "cell_type": "markdown",
   "metadata": {},
   "source": [
    "\n",
    "## Hyperparameter Tuning\n"
   ]
  },
  {
   "cell_type": "markdown",
   "metadata": {},
   "source": [
    "1. **Learning Rate**: Optimize and analyze the effect of different learning rates."
   ]
  },
  {
   "cell_type": "code",
   "execution_count": 27,
   "metadata": {},
   "outputs": [
    {
     "name": "stdout",
     "output_type": "stream",
     "text": [
      "Epoch 1/5\n"
     ]
    },
    {
     "name": "stderr",
     "output_type": "stream",
     "text": [
      "c:\\Users\\Girija\\Desktop\\AI Msc\\BLOCK 04 Research Methods and Applications\\PART B\\ASSESSMENT 3\\SDS_CNN\\.venv\\lib\\site-packages\\keras\\src\\layers\\core\\embedding.py:90: UserWarning: Argument `input_length` is deprecated. Just remove it.\n",
      "  warnings.warn(\n"
     ]
    },
    {
     "name": "stdout",
     "output_type": "stream",
     "text": [
      "\u001b[1m140/140\u001b[0m \u001b[32m━━━━━━━━━━━━━━━━━━━━\u001b[0m\u001b[37m\u001b[0m \u001b[1m20s\u001b[0m 72ms/step - accuracy: 0.8834 - loss: 0.3859 - val_accuracy: 0.9767 - val_loss: 0.0875\n",
      "Epoch 2/5\n",
      "\u001b[1m140/140\u001b[0m \u001b[32m━━━━━━━━━━━━━━━━━━━━\u001b[0m\u001b[37m\u001b[0m \u001b[1m10s\u001b[0m 72ms/step - accuracy: 0.9761 - loss: 0.0967 - val_accuracy: 0.9848 - val_loss: 0.0538\n",
      "Epoch 3/5\n",
      "\u001b[1m140/140\u001b[0m \u001b[32m━━━━━━━━━━━━━━━━━━━━\u001b[0m\u001b[37m\u001b[0m \u001b[1m11s\u001b[0m 77ms/step - accuracy: 0.9899 - loss: 0.0494 - val_accuracy: 0.9857 - val_loss: 0.0573\n",
      "Epoch 4/5\n",
      "\u001b[1m140/140\u001b[0m \u001b[32m━━━━━━━━━━━━━━━━━━━━\u001b[0m\u001b[37m\u001b[0m \u001b[1m9s\u001b[0m 65ms/step - accuracy: 0.9963 - loss: 0.0184 - val_accuracy: 0.9812 - val_loss: 0.0631\n",
      "Epoch 5/5\n",
      "\u001b[1m140/140\u001b[0m \u001b[32m━━━━━━━━━━━━━━━━━━━━\u001b[0m\u001b[37m\u001b[0m \u001b[1m9s\u001b[0m 67ms/step - accuracy: 0.9973 - loss: 0.0158 - val_accuracy: 0.9883 - val_loss: 0.0530\n",
      "\u001b[1m35/35\u001b[0m \u001b[32m━━━━━━━━━━━━━━━━━━━━\u001b[0m\u001b[37m\u001b[0m \u001b[1m2s\u001b[0m 43ms/step\n",
      "Accuracy with learning rate 0.001: 0.9883\n",
      "Precision with learning rate 0.001: 0.9658\n",
      "-----------------------------------\n",
      "Epoch 1/5\n"
     ]
    },
    {
     "name": "stderr",
     "output_type": "stream",
     "text": [
      "c:\\Users\\Girija\\Desktop\\AI Msc\\BLOCK 04 Research Methods and Applications\\PART B\\ASSESSMENT 3\\SDS_CNN\\.venv\\lib\\site-packages\\keras\\src\\layers\\core\\embedding.py:90: UserWarning: Argument `input_length` is deprecated. Just remove it.\n",
      "  warnings.warn(\n"
     ]
    },
    {
     "name": "stdout",
     "output_type": "stream",
     "text": [
      "\u001b[1m140/140\u001b[0m \u001b[32m━━━━━━━━━━━━━━━━━━━━\u001b[0m\u001b[37m\u001b[0m \u001b[1m18s\u001b[0m 71ms/step - accuracy: 0.9203 - loss: 0.2456 - val_accuracy: 0.9874 - val_loss: 0.0601\n",
      "Epoch 2/5\n",
      "\u001b[1m140/140\u001b[0m \u001b[32m━━━━━━━━━━━━━━━━━━━━\u001b[0m\u001b[37m\u001b[0m \u001b[1m10s\u001b[0m 72ms/step - accuracy: 0.9850 - loss: 0.0593 - val_accuracy: 0.9865 - val_loss: 0.0690\n",
      "Epoch 3/5\n",
      "\u001b[1m140/140\u001b[0m \u001b[32m━━━━━━━━━━━━━━━━━━━━\u001b[0m\u001b[37m\u001b[0m \u001b[1m9s\u001b[0m 61ms/step - accuracy: 0.9918 - loss: 0.0374 - val_accuracy: 0.9830 - val_loss: 0.0675\n",
      "Epoch 4/5\n",
      "\u001b[1m140/140\u001b[0m \u001b[32m━━━━━━━━━━━━━━━━━━━━\u001b[0m\u001b[37m\u001b[0m \u001b[1m10s\u001b[0m 74ms/step - accuracy: 0.9932 - loss: 0.0228 - val_accuracy: 0.9839 - val_loss: 0.0708\n",
      "Epoch 5/5\n",
      "\u001b[1m140/140\u001b[0m \u001b[32m━━━━━━━━━━━━━━━━━━━━\u001b[0m\u001b[37m\u001b[0m \u001b[1m9s\u001b[0m 65ms/step - accuracy: 0.9949 - loss: 0.0254 - val_accuracy: 0.9722 - val_loss: 0.0751\n",
      "\u001b[1m35/35\u001b[0m \u001b[32m━━━━━━━━━━━━━━━━━━━━\u001b[0m\u001b[37m\u001b[0m \u001b[1m3s\u001b[0m 56ms/step\n",
      "Accuracy with learning rate 0.01: 0.9722\n",
      "Precision with learning rate 0.01: 0.8642\n",
      "-----------------------------------\n"
     ]
    },
    {
     "name": "stderr",
     "output_type": "stream",
     "text": [
      "c:\\Users\\Girija\\Desktop\\AI Msc\\BLOCK 04 Research Methods and Applications\\PART B\\ASSESSMENT 3\\SDS_CNN\\.venv\\lib\\site-packages\\keras\\src\\layers\\core\\embedding.py:90: UserWarning: Argument `input_length` is deprecated. Just remove it.\n",
      "  warnings.warn(\n"
     ]
    },
    {
     "name": "stdout",
     "output_type": "stream",
     "text": [
      "Epoch 1/5\n",
      "\u001b[1m140/140\u001b[0m \u001b[32m━━━━━━━━━━━━━━━━━━━━\u001b[0m\u001b[37m\u001b[0m \u001b[1m20s\u001b[0m 79ms/step - accuracy: 0.8290 - loss: 0.5841 - val_accuracy: 0.8664 - val_loss: 0.3436\n",
      "Epoch 2/5\n",
      "\u001b[1m140/140\u001b[0m \u001b[32m━━━━━━━━━━━━━━━━━━━━\u001b[0m\u001b[37m\u001b[0m \u001b[1m11s\u001b[0m 79ms/step - accuracy: 0.8725 - loss: 0.3479 - val_accuracy: 0.8664 - val_loss: 0.3940\n",
      "Epoch 3/5\n",
      "\u001b[1m140/140\u001b[0m \u001b[32m━━━━━━━━━━━━━━━━━━━━\u001b[0m\u001b[37m\u001b[0m \u001b[1m12s\u001b[0m 87ms/step - accuracy: 0.8621 - loss: 0.4036 - val_accuracy: 0.8664 - val_loss: 0.3936\n",
      "Epoch 4/5\n",
      "\u001b[1m140/140\u001b[0m \u001b[32m━━━━━━━━━━━━━━━━━━━━\u001b[0m\u001b[37m\u001b[0m \u001b[1m9s\u001b[0m 63ms/step - accuracy: 0.8723 - loss: 0.3833 - val_accuracy: 0.8664 - val_loss: 0.3940\n",
      "Epoch 5/5\n",
      "\u001b[1m140/140\u001b[0m \u001b[32m━━━━━━━━━━━━━━━━━━━━\u001b[0m\u001b[37m\u001b[0m \u001b[1m11s\u001b[0m 75ms/step - accuracy: 0.8524 - loss: 0.4207 - val_accuracy: 0.8664 - val_loss: 0.3946\n",
      "\u001b[1m35/35\u001b[0m \u001b[32m━━━━━━━━━━━━━━━━━━━━\u001b[0m\u001b[37m\u001b[0m \u001b[1m2s\u001b[0m 34ms/step\n"
     ]
    },
    {
     "name": "stderr",
     "output_type": "stream",
     "text": [
      "c:\\Users\\Girija\\Desktop\\AI Msc\\BLOCK 04 Research Methods and Applications\\PART B\\ASSESSMENT 3\\SDS_CNN\\.venv\\lib\\site-packages\\sklearn\\metrics\\_classification.py:1509: UndefinedMetricWarning: Precision is ill-defined and being set to 0.0 due to no predicted samples. Use `zero_division` parameter to control this behavior.\n",
      "  _warn_prf(average, modifier, f\"{metric.capitalize()} is\", len(result))\n"
     ]
    },
    {
     "name": "stdout",
     "output_type": "stream",
     "text": [
      "Accuracy with learning rate 0.1: 0.8664\n",
      "Precision with learning rate 0.1: 0.0000\n",
      "-----------------------------------\n",
      "Epoch 1/5\n"
     ]
    },
    {
     "name": "stderr",
     "output_type": "stream",
     "text": [
      "c:\\Users\\Girija\\Desktop\\AI Msc\\BLOCK 04 Research Methods and Applications\\PART B\\ASSESSMENT 3\\SDS_CNN\\.venv\\lib\\site-packages\\keras\\src\\layers\\core\\embedding.py:90: UserWarning: Argument `input_length` is deprecated. Just remove it.\n",
      "  warnings.warn(\n"
     ]
    },
    {
     "name": "stdout",
     "output_type": "stream",
     "text": [
      "\u001b[1m140/140\u001b[0m \u001b[32m━━━━━━━━━━━━━━━━━━━━\u001b[0m\u001b[37m\u001b[0m \u001b[1m22s\u001b[0m 81ms/step - accuracy: 0.7787 - loss: 3.8826 - val_accuracy: 0.8664 - val_loss: 0.3933\n",
      "Epoch 2/5\n",
      "\u001b[1m140/140\u001b[0m \u001b[32m━━━━━━━━━━━━━━━━━━━━\u001b[0m\u001b[37m\u001b[0m \u001b[1m10s\u001b[0m 71ms/step - accuracy: 0.8565 - loss: 0.4130 - val_accuracy: 0.8664 - val_loss: 0.3937\n",
      "Epoch 3/5\n",
      "\u001b[1m140/140\u001b[0m \u001b[32m━━━━━━━━━━━━━━━━━━━━\u001b[0m\u001b[37m\u001b[0m \u001b[1m7s\u001b[0m 51ms/step - accuracy: 0.8660 - loss: 0.3956 - val_accuracy: 0.8664 - val_loss: 0.3944\n",
      "Epoch 4/5\n",
      "\u001b[1m140/140\u001b[0m \u001b[32m━━━━━━━━━━━━━━━━━━━━\u001b[0m\u001b[37m\u001b[0m \u001b[1m8s\u001b[0m 54ms/step - accuracy: 0.8649 - loss: 0.4019 - val_accuracy: 0.8664 - val_loss: 0.3940\n",
      "Epoch 5/5\n",
      "\u001b[1m140/140\u001b[0m \u001b[32m━━━━━━━━━━━━━━━━━━━━\u001b[0m\u001b[37m\u001b[0m \u001b[1m8s\u001b[0m 58ms/step - accuracy: 0.8699 - loss: 0.3899 - val_accuracy: 0.8664 - val_loss: 0.4033\n",
      "\u001b[1m35/35\u001b[0m \u001b[32m━━━━━━━━━━━━━━━━━━━━\u001b[0m\u001b[37m\u001b[0m \u001b[1m1s\u001b[0m 28ms/step\n"
     ]
    },
    {
     "name": "stderr",
     "output_type": "stream",
     "text": [
      "c:\\Users\\Girija\\Desktop\\AI Msc\\BLOCK 04 Research Methods and Applications\\PART B\\ASSESSMENT 3\\SDS_CNN\\.venv\\lib\\site-packages\\sklearn\\metrics\\_classification.py:1509: UndefinedMetricWarning: Precision is ill-defined and being set to 0.0 due to no predicted samples. Use `zero_division` parameter to control this behavior.\n",
      "  _warn_prf(average, modifier, f\"{metric.capitalize()} is\", len(result))\n"
     ]
    },
    {
     "name": "stdout",
     "output_type": "stream",
     "text": [
      "Accuracy with learning rate 0.3: 0.8664\n",
      "Precision with learning rate 0.3: 0.0000\n",
      "-----------------------------------\n"
     ]
    }
   ],
   "source": [
    "# Prepare the data for training and testing\n",
    "\n",
    "# Initialize a label encoder to convert categorical labels to numerical labels\n",
    "label_encoder = LabelEncoder()\n",
    "\n",
    "# Transform the 'Category' column in the data DataFrame to numerical labels\n",
    "data['Category'] = label_encoder.fit_transform(data['Category'])\n",
    "\n",
    "# Split the data into training and testing sets\n",
    "messages_train, messages_test, category_train, category_test = train_test_split(data['Message'], data['Category'], test_size=0.2, random_state=42)\n",
    "\n",
    "# Define the maximum number of words to consider for tokenization\n",
    "maximum_words_to_consider = 1000 \n",
    "\n",
    "# Initialize a tokenizer and fit it on the training data\n",
    "tokenizer = Tokenizer(num_words=maximum_words_to_consider) \n",
    "tokenizer.fit_on_texts(messages_train)\n",
    "\n",
    "# Convert the text data to sequences of numerical values\n",
    "X_train_seq = tokenizer.texts_to_sequences(messages_train)\n",
    "X_test_seq = tokenizer.texts_to_sequences(messages_test)\n",
    "\n",
    "# Set a maximum sequence length for padding\n",
    "maximum_sequence_length = 100\n",
    "\n",
    "# Pad the sequences to ensure uniform length\n",
    "X_train_padded = pad_sequences(X_train_seq, maxlen=maximum_sequence_length)\n",
    "X_test_padded = pad_sequences(X_test_seq, maxlen=maximum_sequence_length)\n",
    "\n",
    "# Define parameters for the CNN model\n",
    "embedding_dimension = 50\n",
    "number_of_filters = 64\n",
    "filter_kernel_size = 5\n",
    "\n",
    "# Define a list of learning rates to experiment with\n",
    "learning_rates = [0.001, 0.01, 0.1, 0.3]\n",
    "\n",
    "# Iterate over different learning rates\n",
    "for lr in learning_rates:\n",
    "    # Define the CNN model architecture\n",
    "    model = Sequential([\n",
    "        Embedding(input_dim=maximum_words_to_consider, output_dim=embedding_dimension, input_length=maximum_sequence_length),   \n",
    "        Conv1D(filters=number_of_filters, kernel_size=filter_kernel_size, padding='same', activation='relu'),\n",
    "        Bidirectional(LSTM(64, return_sequences=True)),  # Bidirectional LSTM Layer\n",
    "        GlobalMaxPooling1D(),  # Apply GlobalMaxPooling1D\n",
    "        Dense(128, activation='relu'),\n",
    "        Dropout(0.5),\n",
    "        Dense(1, activation='sigmoid')\n",
    "    ])\n",
    "\n",
    "    # Compile the model with the specified learning rate\n",
    "    optimizer = Adam(learning_rate=lr)\n",
    "    \n",
    "    # Train the model\n",
    "    model.compile(optimizer=optimizer, loss='binary_crossentropy', metrics=['accuracy'])\n",
    "    \n",
    "    # Define the number of epochs for training.\n",
    "    epochs = 5\n",
    "    \n",
    "    # Train the model on the training data.\n",
    "    history = model.fit(X_train_padded, category_train, epochs=epochs, validation_data=(X_test_padded, category_test))\n",
    "    \n",
    "    # Predict probabilities on the test data.\n",
    "    y_pred_prob = model.predict(X_test_padded)\n",
    "    \n",
    "    # Convert probabilities to binary class labels.\n",
    "    y_pred = (y_pred_prob > 0.5).astype(int)\n",
    "    \n",
    "    # Calculate precision score.\n",
    "    precision = precision_score(category_test, y_pred)\n",
    "    \n",
    "    # Evaluate the model on test data and get loss and accuracy.\n",
    "    loss, accuracy = model.evaluate(X_test_padded, category_test, verbose=0)\n",
    "    \n",
    "    print(f\"Accuracy with learning rate {lr}: {accuracy:.4f}\")\n",
    "    print(f\"Precision with learning rate {lr}: {precision:.4f}\")\n",
    "    print(\"-----------------------------------\")\n"
   ]
  },
  {
   "cell_type": "markdown",
   "metadata": {},
   "source": [
    "2. **Batch Size**: Experiment with different batch sizes to find the optimal one.\n",
    "    "
   ]
  },
  {
   "cell_type": "code",
   "execution_count": 28,
   "metadata": {},
   "outputs": [
    {
     "name": "stdout",
     "output_type": "stream",
     "text": [
      "Epoch 1/5\n"
     ]
    },
    {
     "name": "stderr",
     "output_type": "stream",
     "text": [
      "c:\\Users\\Girija\\Desktop\\AI Msc\\BLOCK 04 Research Methods and Applications\\PART B\\ASSESSMENT 3\\SDS_CNN\\.venv\\lib\\site-packages\\keras\\src\\layers\\core\\embedding.py:90: UserWarning: Argument `input_length` is deprecated. Just remove it.\n",
      "  warnings.warn(\n"
     ]
    },
    {
     "name": "stdout",
     "output_type": "stream",
     "text": [
      "\u001b[1m279/279\u001b[0m \u001b[32m━━━━━━━━━━━━━━━━━━━━\u001b[0m\u001b[37m\u001b[0m \u001b[1m19s\u001b[0m 51ms/step - accuracy: 0.8801 - loss: 0.3467 - val_accuracy: 0.9874 - val_loss: 0.0433\n",
      "Epoch 2/5\n",
      "\u001b[1m279/279\u001b[0m \u001b[32m━━━━━━━━━━━━━━━━━━━━\u001b[0m\u001b[37m\u001b[0m \u001b[1m15s\u001b[0m 53ms/step - accuracy: 0.9895 - loss: 0.0408 - val_accuracy: 0.9901 - val_loss: 0.0367\n",
      "Epoch 3/5\n",
      "\u001b[1m279/279\u001b[0m \u001b[32m━━━━━━━━━━━━━━━━━━━━\u001b[0m\u001b[37m\u001b[0m \u001b[1m14s\u001b[0m 49ms/step - accuracy: 0.9943 - loss: 0.0208 - val_accuracy: 0.9883 - val_loss: 0.0397\n",
      "Epoch 4/5\n",
      "\u001b[1m279/279\u001b[0m \u001b[32m━━━━━━━━━━━━━━━━━━━━\u001b[0m\u001b[37m\u001b[0m \u001b[1m19s\u001b[0m 42ms/step - accuracy: 0.9970 - loss: 0.0151 - val_accuracy: 0.9892 - val_loss: 0.0426\n",
      "Epoch 5/5\n",
      "\u001b[1m279/279\u001b[0m \u001b[32m━━━━━━━━━━━━━━━━━━━━\u001b[0m\u001b[37m\u001b[0m \u001b[1m13s\u001b[0m 48ms/step - accuracy: 0.9966 - loss: 0.0096 - val_accuracy: 0.9839 - val_loss: 0.0685\n",
      "\u001b[1m35/35\u001b[0m \u001b[32m━━━━━━━━━━━━━━━━━━━━\u001b[0m\u001b[37m\u001b[0m \u001b[1m2s\u001b[0m 40ms/step\n",
      "Precision with batch size 16: 0.93\n",
      "Accuracy with batch size 16: 0.9839\n",
      "-----------------------------------\n",
      "Epoch 1/5\n"
     ]
    },
    {
     "name": "stderr",
     "output_type": "stream",
     "text": [
      "c:\\Users\\Girija\\Desktop\\AI Msc\\BLOCK 04 Research Methods and Applications\\PART B\\ASSESSMENT 3\\SDS_CNN\\.venv\\lib\\site-packages\\keras\\src\\layers\\core\\embedding.py:90: UserWarning: Argument `input_length` is deprecated. Just remove it.\n",
      "  warnings.warn(\n"
     ]
    },
    {
     "name": "stdout",
     "output_type": "stream",
     "text": [
      "\u001b[1m140/140\u001b[0m \u001b[32m━━━━━━━━━━━━━━━━━━━━\u001b[0m\u001b[37m\u001b[0m \u001b[1m13s\u001b[0m 66ms/step - accuracy: 0.8673 - loss: 0.3917 - val_accuracy: 0.9901 - val_loss: 0.0499\n",
      "Epoch 2/5\n",
      "\u001b[1m140/140\u001b[0m \u001b[32m━━━━━━━━━━━━━━━━━━━━\u001b[0m\u001b[37m\u001b[0m \u001b[1m9s\u001b[0m 64ms/step - accuracy: 0.9859 - loss: 0.0591 - val_accuracy: 0.9910 - val_loss: 0.0457\n",
      "Epoch 3/5\n",
      "\u001b[1m140/140\u001b[0m \u001b[32m━━━━━━━━━━━━━━━━━━━━\u001b[0m\u001b[37m\u001b[0m \u001b[1m9s\u001b[0m 61ms/step - accuracy: 0.9928 - loss: 0.0341 - val_accuracy: 0.9910 - val_loss: 0.0475\n",
      "Epoch 4/5\n",
      "\u001b[1m140/140\u001b[0m \u001b[32m━━━━━━━━━━━━━━━━━━━━\u001b[0m\u001b[37m\u001b[0m \u001b[1m9s\u001b[0m 67ms/step - accuracy: 0.9969 - loss: 0.0159 - val_accuracy: 0.9892 - val_loss: 0.0533\n",
      "Epoch 5/5\n",
      "\u001b[1m140/140\u001b[0m \u001b[32m━━━━━━━━━━━━━━━━━━━━\u001b[0m\u001b[37m\u001b[0m \u001b[1m9s\u001b[0m 65ms/step - accuracy: 0.9967 - loss: 0.0149 - val_accuracy: 0.9821 - val_loss: 0.0629\n",
      "\u001b[1m35/35\u001b[0m \u001b[32m━━━━━━━━━━━━━━━━━━━━\u001b[0m\u001b[37m\u001b[0m \u001b[1m1s\u001b[0m 29ms/step\n",
      "Precision with batch size 32: 0.92\n",
      "Accuracy with batch size 32: 0.9821\n",
      "-----------------------------------\n",
      "Epoch 1/5\n"
     ]
    },
    {
     "name": "stderr",
     "output_type": "stream",
     "text": [
      "c:\\Users\\Girija\\Desktop\\AI Msc\\BLOCK 04 Research Methods and Applications\\PART B\\ASSESSMENT 3\\SDS_CNN\\.venv\\lib\\site-packages\\keras\\src\\layers\\core\\embedding.py:90: UserWarning: Argument `input_length` is deprecated. Just remove it.\n",
      "  warnings.warn(\n"
     ]
    },
    {
     "name": "stdout",
     "output_type": "stream",
     "text": [
      "\u001b[1m70/70\u001b[0m \u001b[32m━━━━━━━━━━━━━━━━━━━━\u001b[0m\u001b[37m\u001b[0m \u001b[1m13s\u001b[0m 127ms/step - accuracy: 0.8283 - loss: 0.4808 - val_accuracy: 0.9722 - val_loss: 0.1391\n",
      "Epoch 2/5\n",
      "\u001b[1m70/70\u001b[0m \u001b[32m━━━━━━━━━━━━━━━━━━━━\u001b[0m\u001b[37m\u001b[0m \u001b[1m8s\u001b[0m 113ms/step - accuracy: 0.9761 - loss: 0.0953 - val_accuracy: 0.9857 - val_loss: 0.0538\n",
      "Epoch 3/5\n",
      "\u001b[1m70/70\u001b[0m \u001b[32m━━━━━━━━━━━━━━━━━━━━\u001b[0m\u001b[37m\u001b[0m \u001b[1m7s\u001b[0m 106ms/step - accuracy: 0.9882 - loss: 0.0461 - val_accuracy: 0.9883 - val_loss: 0.0473\n",
      "Epoch 4/5\n",
      "\u001b[1m70/70\u001b[0m \u001b[32m━━━━━━━━━━━━━━━━━━━━\u001b[0m\u001b[37m\u001b[0m \u001b[1m7s\u001b[0m 98ms/step - accuracy: 0.9954 - loss: 0.0229 - val_accuracy: 0.9874 - val_loss: 0.0459\n",
      "Epoch 5/5\n",
      "\u001b[1m70/70\u001b[0m \u001b[32m━━━━━━━━━━━━━━━━━━━━\u001b[0m\u001b[37m\u001b[0m \u001b[1m7s\u001b[0m 107ms/step - accuracy: 0.9955 - loss: 0.0253 - val_accuracy: 0.9874 - val_loss: 0.0530\n",
      "\u001b[1m35/35\u001b[0m \u001b[32m━━━━━━━━━━━━━━━━━━━━\u001b[0m\u001b[37m\u001b[0m \u001b[1m2s\u001b[0m 35ms/step\n",
      "Precision with batch size 64: 0.97\n",
      "Accuracy with batch size 64: 0.9874\n",
      "-----------------------------------\n",
      "Epoch 1/5\n"
     ]
    },
    {
     "name": "stderr",
     "output_type": "stream",
     "text": [
      "c:\\Users\\Girija\\Desktop\\AI Msc\\BLOCK 04 Research Methods and Applications\\PART B\\ASSESSMENT 3\\SDS_CNN\\.venv\\lib\\site-packages\\keras\\src\\layers\\core\\embedding.py:90: UserWarning: Argument `input_length` is deprecated. Just remove it.\n",
      "  warnings.warn(\n"
     ]
    },
    {
     "name": "stdout",
     "output_type": "stream",
     "text": [
      "\u001b[1m35/35\u001b[0m \u001b[32m━━━━━━━━━━━━━━━━━━━━\u001b[0m\u001b[37m\u001b[0m \u001b[1m13s\u001b[0m 245ms/step - accuracy: 0.8342 - loss: 0.5235 - val_accuracy: 0.8664 - val_loss: 0.3550\n",
      "Epoch 2/5\n",
      "\u001b[1m35/35\u001b[0m \u001b[32m━━━━━━━━━━━━━━━━━━━━\u001b[0m\u001b[37m\u001b[0m \u001b[1m8s\u001b[0m 215ms/step - accuracy: 0.8963 - loss: 0.2627 - val_accuracy: 0.9874 - val_loss: 0.0614\n",
      "Epoch 3/5\n",
      "\u001b[1m35/35\u001b[0m \u001b[32m━━━━━━━━━━━━━━━━━━━━\u001b[0m\u001b[37m\u001b[0m \u001b[1m8s\u001b[0m 221ms/step - accuracy: 0.9843 - loss: 0.0661 - val_accuracy: 0.9883 - val_loss: 0.0540\n",
      "Epoch 4/5\n",
      "\u001b[1m35/35\u001b[0m \u001b[32m━━━━━━━━━━━━━━━━━━━━\u001b[0m\u001b[37m\u001b[0m \u001b[1m8s\u001b[0m 226ms/step - accuracy: 0.9913 - loss: 0.0384 - val_accuracy: 0.9865 - val_loss: 0.0536\n",
      "Epoch 5/5\n",
      "\u001b[1m35/35\u001b[0m \u001b[32m━━━━━━━━━━━━━━━━━━━━\u001b[0m\u001b[37m\u001b[0m \u001b[1m8s\u001b[0m 222ms/step - accuracy: 0.9931 - loss: 0.0270 - val_accuracy: 0.9892 - val_loss: 0.0470\n",
      "\u001b[1m35/35\u001b[0m \u001b[32m━━━━━━━━━━━━━━━━━━━━\u001b[0m\u001b[37m\u001b[0m \u001b[1m2s\u001b[0m 38ms/step\n",
      "Precision with batch size 128: 0.98\n",
      "Accuracy with batch size 128: 0.9892\n",
      "-----------------------------------\n"
     ]
    }
   ],
   "source": [
    "# Initialize a new instance of the LabelEncoder class to convert categorical labels into numerical labels.\n",
    "label_encoder = LabelEncoder()\n",
    "\n",
    "# Assign transformed numerical labels back to the 'Category' column in the data DataFrame.\n",
    "data['Category'] = label_encoder.fit_transform(data['Category'])\n",
    "\n",
    "# Split the dataset into training and testing sets.\n",
    "messages_train, messages_test, categories_train, categories_test = train_test_split(data['Message'], data['Category'], test_size=0.2, random_state=42)\n",
    "\n",
    "# Define the maximum number of unique words to consider in the tokenizer.\n",
    "maximum_words_to_consider = 1000 \n",
    "\n",
    "# Instantiate a Tokenizer object from Keras for tokenizing text data.\n",
    "tokenizer = Tokenizer(num_words=maximum_words_to_consider) \n",
    "\n",
    "# Fit the tokenizer on the training data.\n",
    "tokenizer.fit_on_texts(messages_train)\n",
    "\n",
    "# Convert text data to sequences.\n",
    "X_train_sequences = tokenizer.texts_to_sequences(messages_train)\n",
    "X_test_sequences = tokenizer.texts_to_sequences(messages_test)\n",
    "\n",
    "# Define the maximum sequence length for padding.\n",
    "maximum_sequence_length = 100\n",
    "\n",
    "# Pad sequences to ensure uniform length.\n",
    "X_train_padded = pad_sequences(X_train_sequences, maxlen=maximum_sequence_length)\n",
    "X_test_padded = pad_sequences(X_test_sequences, maxlen=maximum_sequence_length)\n",
    "\n",
    "# Define the embedding dimension, number of filters, and filter size for the CNN model.\n",
    "embedding_dimension = 50\n",
    "number_of_filters = 64\n",
    "filter_kernel_size = 5\n",
    "\n",
    "# Define a list of batch sizes to experiment with.\n",
    "batch_sizes = [16, 32, 64, 128]\n",
    "\n",
    "# Iterate over different batch sizes.\n",
    "for batch_size in batch_sizes:\n",
    "    # Define the CNN model architecture using the Keras Sequential API.\n",
    "    model = Sequential([\n",
    "        Embedding(input_dim=maximum_words_to_consider, output_dim=embedding_dimension, input_length=maximum_sequence_length),   # Embedding Layer\n",
    "        Conv1D(filters=number_of_filters, kernel_size=filter_kernel_size, padding='same', activation='relu'),    # Convolutional Layer 1\n",
    "        Bidirectional(LSTM(64, return_sequences=True)),  # Bidirectional LSTM Layer\n",
    "        GlobalMaxPooling1D(),  # Apply GlobalMaxPooling1D\n",
    "        Dense(128, activation='relu'),\n",
    "        Dropout(0.5),\n",
    "        Dense(1, activation='sigmoid') # Output Layer\n",
    "    ])\n",
    "    \n",
    "    # Compile the model with binary crossentropy loss and Adam optimizer.\n",
    "    model.compile(optimizer='adam', loss='binary_crossentropy', metrics=['accuracy'])\n",
    "    \n",
    "    # Define the number of epochs for training.\n",
    "    epochs = 5\n",
    "    \n",
    "    # Train the model on the training data with the current batch size.\n",
    "    history = model.fit(X_train_padded, categories_train, batch_size=batch_size, epochs=epochs, validation_data=(X_test_padded, categories_test))\n",
    "    \n",
    "    # Predict probabilities on the test data.\n",
    "    predicted_probabilities = model.predict(X_test_padded)\n",
    "    \n",
    "    # Convert probabilities to binary class labels.\n",
    "    predicted_labels = (predicted_probabilities > 0.5).astype(int)\n",
    "    \n",
    "    # Calculate precision score.\n",
    "    precision = precision_score(categories_test, predicted_labels)\n",
    "    \n",
    "    # Evaluate the model on test data and get loss and accuracy.\n",
    "    loss, accuracy = model.evaluate(X_test_padded, categories_test, verbose=0)\n",
    "    \n",
    "    # Print precision and accuracy for the current batch size.\n",
    "    print(f'Precision with batch size {batch_size}: {precision:.2f}')\n",
    "    print(f\"Accuracy with batch size {batch_size}: {accuracy:.4f}\")\n",
    "    print(\"-----------------------------------\")\n"
   ]
  },
  {
   "cell_type": "markdown",
   "metadata": {},
   "source": [
    "3. **Optimizer Choice**: Compare the performance of different optimizers (SGD, Adam, RMSprop, etc.).\n"
   ]
  },
  {
   "cell_type": "code",
   "execution_count": 29,
   "metadata": {},
   "outputs": [
    {
     "name": "stdout",
     "output_type": "stream",
     "text": [
      "Epoch 1/5\n"
     ]
    },
    {
     "name": "stderr",
     "output_type": "stream",
     "text": [
      "c:\\Users\\Girija\\Desktop\\AI Msc\\BLOCK 04 Research Methods and Applications\\PART B\\ASSESSMENT 3\\SDS_CNN\\.venv\\lib\\site-packages\\keras\\src\\layers\\core\\embedding.py:90: UserWarning: Argument `input_length` is deprecated. Just remove it.\n",
      "  warnings.warn(\n"
     ]
    },
    {
     "name": "stdout",
     "output_type": "stream",
     "text": [
      "\u001b[1m35/35\u001b[0m \u001b[32m━━━━━━━━━━━━━━━━━━━━\u001b[0m\u001b[37m\u001b[0m \u001b[1m12s\u001b[0m 246ms/step - accuracy: 0.8556 - loss: 0.6570 - val_accuracy: 0.8664 - val_loss: 0.5772\n",
      "Epoch 2/5\n",
      "\u001b[1m35/35\u001b[0m \u001b[32m━━━━━━━━━━━━━━━━━━━━\u001b[0m\u001b[37m\u001b[0m \u001b[1m8s\u001b[0m 237ms/step - accuracy: 0.8582 - loss: 0.5599 - val_accuracy: 0.8664 - val_loss: 0.5020\n",
      "Epoch 3/5\n",
      "\u001b[1m35/35\u001b[0m \u001b[32m━━━━━━━━━━━━━━━━━━━━\u001b[0m\u001b[37m\u001b[0m \u001b[1m8s\u001b[0m 222ms/step - accuracy: 0.8683 - loss: 0.4870 - val_accuracy: 0.8664 - val_loss: 0.4532\n",
      "Epoch 4/5\n",
      "\u001b[1m35/35\u001b[0m \u001b[32m━━━━━━━━━━━━━━━━━━━━\u001b[0m\u001b[37m\u001b[0m \u001b[1m8s\u001b[0m 237ms/step - accuracy: 0.8630 - loss: 0.4501 - val_accuracy: 0.8664 - val_loss: 0.4241\n",
      "Epoch 5/5\n",
      "\u001b[1m35/35\u001b[0m \u001b[32m━━━━━━━━━━━━━━━━━━━━\u001b[0m\u001b[37m\u001b[0m \u001b[1m8s\u001b[0m 237ms/step - accuracy: 0.8658 - loss: 0.4226 - val_accuracy: 0.8664 - val_loss: 0.4085\n",
      "\u001b[1m35/35\u001b[0m \u001b[32m━━━━━━━━━━━━━━━━━━━━\u001b[0m\u001b[37m\u001b[0m \u001b[1m1s\u001b[0m 32ms/step\n",
      "Precision with Optimizer SGD: 1.00\n",
      "Accuracy with Optimizer SGD: 0.8664\n",
      "Epoch 1/5\n"
     ]
    },
    {
     "name": "stderr",
     "output_type": "stream",
     "text": [
      "c:\\Users\\Girija\\Desktop\\AI Msc\\BLOCK 04 Research Methods and Applications\\PART B\\ASSESSMENT 3\\SDS_CNN\\.venv\\lib\\site-packages\\keras\\src\\layers\\core\\embedding.py:90: UserWarning: Argument `input_length` is deprecated. Just remove it.\n",
      "  warnings.warn(\n"
     ]
    },
    {
     "name": "stdout",
     "output_type": "stream",
     "text": [
      "\u001b[1m35/35\u001b[0m \u001b[32m━━━━━━━━━━━━━━━━━━━━\u001b[0m\u001b[37m\u001b[0m \u001b[1m12s\u001b[0m 236ms/step - accuracy: 0.7699 - loss: 0.5453 - val_accuracy: 0.8664 - val_loss: 0.3716\n",
      "Epoch 2/5\n",
      "\u001b[1m35/35\u001b[0m \u001b[32m━━━━━━━━━━━━━━━━━━━━\u001b[0m\u001b[37m\u001b[0m \u001b[1m8s\u001b[0m 217ms/step - accuracy: 0.8725 - loss: 0.3366 - val_accuracy: 0.9812 - val_loss: 0.0969\n",
      "Epoch 3/5\n",
      "\u001b[1m35/35\u001b[0m \u001b[32m━━━━━━━━━━━━━━━━━━━━\u001b[0m\u001b[37m\u001b[0m \u001b[1m8s\u001b[0m 230ms/step - accuracy: 0.9781 - loss: 0.0829 - val_accuracy: 0.9892 - val_loss: 0.0415\n",
      "Epoch 4/5\n",
      "\u001b[1m35/35\u001b[0m \u001b[32m━━━━━━━━━━━━━━━━━━━━\u001b[0m\u001b[37m\u001b[0m \u001b[1m7s\u001b[0m 211ms/step - accuracy: 0.9919 - loss: 0.0328 - val_accuracy: 0.9901 - val_loss: 0.0422\n",
      "Epoch 5/5\n",
      "\u001b[1m35/35\u001b[0m \u001b[32m━━━━━━━━━━━━━━━━━━━━\u001b[0m\u001b[37m\u001b[0m \u001b[1m7s\u001b[0m 205ms/step - accuracy: 0.9936 - loss: 0.0310 - val_accuracy: 0.9883 - val_loss: 0.0539\n",
      "\u001b[1m35/35\u001b[0m \u001b[32m━━━━━━━━━━━━━━━━━━━━\u001b[0m\u001b[37m\u001b[0m \u001b[1m1s\u001b[0m 31ms/step\n",
      "Precision with Optimizer Adam: 1.00\n",
      "Accuracy with Optimizer Adam: 0.9883\n",
      "Epoch 1/5\n"
     ]
    },
    {
     "name": "stderr",
     "output_type": "stream",
     "text": [
      "c:\\Users\\Girija\\Desktop\\AI Msc\\BLOCK 04 Research Methods and Applications\\PART B\\ASSESSMENT 3\\SDS_CNN\\.venv\\lib\\site-packages\\keras\\src\\layers\\core\\embedding.py:90: UserWarning: Argument `input_length` is deprecated. Just remove it.\n",
      "  warnings.warn(\n"
     ]
    },
    {
     "name": "stdout",
     "output_type": "stream",
     "text": [
      "\u001b[1m35/35\u001b[0m \u001b[32m━━━━━━━━━━━━━━━━━━━━\u001b[0m\u001b[37m\u001b[0m \u001b[1m11s\u001b[0m 226ms/step - accuracy: 0.8412 - loss: 0.4804 - val_accuracy: 0.8664 - val_loss: 0.3578\n",
      "Epoch 2/5\n",
      "\u001b[1m35/35\u001b[0m \u001b[32m━━━━━━━━━━━━━━━━━━━━\u001b[0m\u001b[37m\u001b[0m \u001b[1m7s\u001b[0m 213ms/step - accuracy: 0.8864 - loss: 0.2995 - val_accuracy: 0.9767 - val_loss: 0.0978\n",
      "Epoch 3/5\n",
      "\u001b[1m35/35\u001b[0m \u001b[32m━━━━━━━━━━━━━━━━━━━━\u001b[0m\u001b[37m\u001b[0m \u001b[1m8s\u001b[0m 218ms/step - accuracy: 0.9771 - loss: 0.0958 - val_accuracy: 0.9785 - val_loss: 0.0628\n",
      "Epoch 4/5\n",
      "\u001b[1m35/35\u001b[0m \u001b[32m━━━━━━━━━━━━━━━━━━━━\u001b[0m\u001b[37m\u001b[0m \u001b[1m8s\u001b[0m 226ms/step - accuracy: 0.9825 - loss: 0.0715 - val_accuracy: 0.9830 - val_loss: 0.0670\n",
      "Epoch 5/5\n",
      "\u001b[1m35/35\u001b[0m \u001b[32m━━━━━━━━━━━━━━━━━━━━\u001b[0m\u001b[37m\u001b[0m \u001b[1m8s\u001b[0m 237ms/step - accuracy: 0.9904 - loss: 0.0502 - val_accuracy: 0.9848 - val_loss: 0.0573\n",
      "\u001b[1m35/35\u001b[0m \u001b[32m━━━━━━━━━━━━━━━━━━━━\u001b[0m\u001b[37m\u001b[0m \u001b[1m1s\u001b[0m 31ms/step\n",
      "Precision with Optimizer RMSprop: 0.97\n",
      "Accuracy with Optimizer RMSprop: 0.9848\n"
     ]
    }
   ],
   "source": [
    "# Initialize a LabelEncoder to convert categorical labels into numerical labels\n",
    "label_encoder = LabelEncoder()\n",
    "\n",
    "# Transform categorical labels into numerical labels and assign them back to the 'Category' column\n",
    "data['Category'] = label_encoder.fit_transform(data['Category'])\n",
    "\n",
    "# Split the dataset into training and testing sets\n",
    "training_data, testing_data, training_labels, testing_labels = train_test_split(data['Message'], data['Category'], test_size=0.2, random_state=42)\n",
    "\n",
    "# Tokenize the text data\n",
    "maximum_words_to_consider = 1000  # Maximum number of unique words to consider in the tokenizer\n",
    "tokenizer = Tokenizer(num_words=maximum_words_to_consider)  # Initialize a tokenizer with a maximum number of words\n",
    "tokenizer.fit_on_texts(training_data)  # Fit the tokenizer on the training data\n",
    "training_data_sequences = tokenizer.texts_to_sequences(training_data)  # Convert training text data to sequences\n",
    "testing_data_sequences = tokenizer.texts_to_sequences(testing_data)  # Convert testing text data to sequences\n",
    "\n",
    "# Pad sequences to ensure uniform length\n",
    "maximum_sequence_length = 100  # Maximum length of sequences\n",
    "padded_training_data = pad_sequences(training_data_sequences, maxlen=maximum_sequence_length)  # Pad training sequences\n",
    "padded_testing_data = pad_sequences(testing_data_sequences, maxlen=maximum_sequence_length)  # Pad testing sequences\n",
    "\n",
    "# Build the CNN model\n",
    "embedding_dimension = 50  # Dimensionality of word embeddings\n",
    "number_of_filters = 64  # Number of filters in the convolutional layer\n",
    "filter_kernel_size = 5  # Size of the convolutional filters\n",
    "\n",
    "# List of optimizers to compare\n",
    "optimizers = [SGD(), Adam(), RMSprop()]\n",
    "\n",
    "# Iterate over each optimizer\n",
    "for optimizer in optimizers:\n",
    "    # Define the CNN model architecture\n",
    "    model = Sequential([\n",
    "        Embedding(input_dim=maximum_words_to_consider, output_dim=embedding_dimension, input_length=maximum_sequence_length),   # Embedding Layer\n",
    "        Conv1D(filters=number_of_filters, kernel_size=filter_kernel_size, padding='same', activation='relu'),    # Convolutional Layer\n",
    "        Bidirectional(LSTM(64, return_sequences=True)),  # Bidirectional LSTM Layer\n",
    "        GlobalMaxPooling1D(),  # Apply GlobalMaxPooling1D\n",
    "        Dense(128, activation='relu'),\n",
    "        Dropout(0.5),\n",
    "        Dense(1, activation='sigmoid')  # Output Layer\n",
    "    ])\n",
    "\n",
    "    # Compile the model with the current optimizer\n",
    "    model.compile(optimizer=optimizer, loss='binary_crossentropy', metrics=['accuracy'])\n",
    "\n",
    "    # Train the model\n",
    "    epochs = 5  # Number of epochs for training\n",
    "    history = model.fit(padded_training_data, training_labels, batch_size=batch_size, epochs=epochs, validation_data=(padded_testing_data, testing_labels))\n",
    "\n",
    "    # Predict probabilities\n",
    "    y_pred_prob = model.predict(padded_testing_data)\n",
    "\n",
    "    # Convert probabilities to binary class labels\n",
    "    y_pred = (y_pred_prob > 0.5).astype(int)\n",
    "\n",
    "    # Calculate precision\n",
    "    precision = precision_score(testing_labels, y_pred, zero_division=1)\n",
    "\n",
    "    # Evaluate the model\n",
    "    loss, accuracy = model.evaluate(padded_testing_data, testing_labels, verbose=0)\n",
    "\n",
    "    # Print precision and accuracy for the current optimizer\n",
    "    print(f'Precision with Optimizer {optimizer.__class__.__name__}: {precision:.2f}')\n",
    "    print(f\"Accuracy with Optimizer {optimizer.__class__.__name__}: {accuracy:.4f}\")\n"
   ]
  },
  {
   "cell_type": "markdown",
   "metadata": {},
   "source": [
    "4. ***DIfferent Activation Functions***"
   ]
  },
  {
   "cell_type": "code",
   "execution_count": 30,
   "metadata": {},
   "outputs": [
    {
     "name": "stdout",
     "output_type": "stream",
     "text": [
      "Epoch 1/5\n"
     ]
    },
    {
     "name": "stderr",
     "output_type": "stream",
     "text": [
      "c:\\Users\\Girija\\Desktop\\AI Msc\\BLOCK 04 Research Methods and Applications\\PART B\\ASSESSMENT 3\\SDS_CNN\\.venv\\lib\\site-packages\\keras\\src\\layers\\core\\embedding.py:90: UserWarning: Argument `input_length` is deprecated. Just remove it.\n",
      "  warnings.warn(\n"
     ]
    },
    {
     "name": "stdout",
     "output_type": "stream",
     "text": [
      "\u001b[1m70/70\u001b[0m \u001b[32m━━━━━━━━━━━━━━━━━━━━\u001b[0m\u001b[37m\u001b[0m \u001b[1m12s\u001b[0m 112ms/step - accuracy: 0.8518 - loss: 0.4562 - val_accuracy: 0.9857 - val_loss: 0.0603\n",
      "Epoch 2/5\n",
      "\u001b[1m70/70\u001b[0m \u001b[32m━━━━━━━━━━━━━━━━━━━━\u001b[0m\u001b[37m\u001b[0m \u001b[1m7s\u001b[0m 98ms/step - accuracy: 0.9850 - loss: 0.0610 - val_accuracy: 0.9883 - val_loss: 0.0461\n",
      "Epoch 3/5\n",
      "\u001b[1m70/70\u001b[0m \u001b[32m━━━━━━━━━━━━━━━━━━━━\u001b[0m\u001b[37m\u001b[0m \u001b[1m7s\u001b[0m 99ms/step - accuracy: 0.9880 - loss: 0.0415 - val_accuracy: 0.9883 - val_loss: 0.0431\n",
      "Epoch 4/5\n",
      "\u001b[1m70/70\u001b[0m \u001b[32m━━━━━━━━━━━━━━━━━━━━\u001b[0m\u001b[37m\u001b[0m \u001b[1m7s\u001b[0m 94ms/step - accuracy: 0.9949 - loss: 0.0213 - val_accuracy: 0.9883 - val_loss: 0.0455\n",
      "Epoch 5/5\n",
      "\u001b[1m70/70\u001b[0m \u001b[32m━━━━━━━━━━━━━━━━━━━━\u001b[0m\u001b[37m\u001b[0m \u001b[1m6s\u001b[0m 89ms/step - accuracy: 0.9982 - loss: 0.0103 - val_accuracy: 0.9857 - val_loss: 0.0530\n",
      "\u001b[1m35/35\u001b[0m \u001b[32m━━━━━━━━━━━━━━━━━━━━\u001b[0m\u001b[37m\u001b[0m \u001b[1m1s\u001b[0m 30ms/step\n",
      "Precision with Activation: relu: 0.95\n",
      "Accuracy with Activation: relu: 0.9857\n",
      "Epoch 1/5\n"
     ]
    },
    {
     "name": "stderr",
     "output_type": "stream",
     "text": [
      "c:\\Users\\Girija\\Desktop\\AI Msc\\BLOCK 04 Research Methods and Applications\\PART B\\ASSESSMENT 3\\SDS_CNN\\.venv\\lib\\site-packages\\keras\\src\\layers\\core\\embedding.py:90: UserWarning: Argument `input_length` is deprecated. Just remove it.\n",
      "  warnings.warn(\n"
     ]
    },
    {
     "name": "stdout",
     "output_type": "stream",
     "text": [
      "\u001b[1m70/70\u001b[0m \u001b[32m━━━━━━━━━━━━━━━━━━━━\u001b[0m\u001b[37m\u001b[0m \u001b[1m13s\u001b[0m 123ms/step - accuracy: 0.8351 - loss: 0.4111 - val_accuracy: 0.9848 - val_loss: 0.0620\n",
      "Epoch 2/5\n",
      "\u001b[1m70/70\u001b[0m \u001b[32m━━━━━━━━━━━━━━━━━━━━\u001b[0m\u001b[37m\u001b[0m \u001b[1m7s\u001b[0m 99ms/step - accuracy: 0.9844 - loss: 0.0556 - val_accuracy: 0.9865 - val_loss: 0.0506\n",
      "Epoch 3/5\n",
      "\u001b[1m70/70\u001b[0m \u001b[32m━━━━━━━━━━━━━━━━━━━━\u001b[0m\u001b[37m\u001b[0m \u001b[1m8s\u001b[0m 113ms/step - accuracy: 0.9910 - loss: 0.0359 - val_accuracy: 0.9857 - val_loss: 0.0531\n",
      "Epoch 4/5\n",
      "\u001b[1m70/70\u001b[0m \u001b[32m━━━━━━━━━━━━━━━━━━━━\u001b[0m\u001b[37m\u001b[0m \u001b[1m7s\u001b[0m 96ms/step - accuracy: 0.9965 - loss: 0.0168 - val_accuracy: 0.9857 - val_loss: 0.0509\n",
      "Epoch 5/5\n",
      "\u001b[1m70/70\u001b[0m \u001b[32m━━━━━━━━━━━━━━━━━━━━\u001b[0m\u001b[37m\u001b[0m \u001b[1m9s\u001b[0m 121ms/step - accuracy: 0.9967 - loss: 0.0135 - val_accuracy: 0.9883 - val_loss: 0.0576\n",
      "\u001b[1m35/35\u001b[0m \u001b[32m━━━━━━━━━━━━━━━━━━━━\u001b[0m\u001b[37m\u001b[0m \u001b[1m2s\u001b[0m 36ms/step\n",
      "Precision with Activation: tanh: 0.97\n",
      "Accuracy with Activation: tanh: 0.9883\n",
      "Epoch 1/5\n"
     ]
    },
    {
     "name": "stderr",
     "output_type": "stream",
     "text": [
      "c:\\Users\\Girija\\Desktop\\AI Msc\\BLOCK 04 Research Methods and Applications\\PART B\\ASSESSMENT 3\\SDS_CNN\\.venv\\lib\\site-packages\\keras\\src\\layers\\core\\embedding.py:90: UserWarning: Argument `input_length` is deprecated. Just remove it.\n",
      "  warnings.warn(\n"
     ]
    },
    {
     "name": "stdout",
     "output_type": "stream",
     "text": [
      "\u001b[1m70/70\u001b[0m \u001b[32m━━━━━━━━━━━━━━━━━━━━\u001b[0m\u001b[37m\u001b[0m \u001b[1m11s\u001b[0m 106ms/step - accuracy: 0.7455 - loss: 0.5435 - val_accuracy: 0.8664 - val_loss: 0.3981\n",
      "Epoch 2/5\n",
      "\u001b[1m70/70\u001b[0m \u001b[32m━━━━━━━━━━━━━━━━━━━━\u001b[0m\u001b[37m\u001b[0m \u001b[1m7s\u001b[0m 93ms/step - accuracy: 0.8644 - loss: 0.4155 - val_accuracy: 0.8664 - val_loss: 0.2658\n",
      "Epoch 3/5\n",
      "\u001b[1m70/70\u001b[0m \u001b[32m━━━━━━━━━━━━━━━━━━━━\u001b[0m\u001b[37m\u001b[0m \u001b[1m7s\u001b[0m 101ms/step - accuracy: 0.9303 - loss: 0.1821 - val_accuracy: 0.9865 - val_loss: 0.0529\n",
      "Epoch 4/5\n",
      "\u001b[1m70/70\u001b[0m \u001b[32m━━━━━━━━━━━━━━━━━━━━\u001b[0m\u001b[37m\u001b[0m \u001b[1m7s\u001b[0m 101ms/step - accuracy: 0.9896 - loss: 0.0499 - val_accuracy: 0.9892 - val_loss: 0.0449\n",
      "Epoch 5/5\n",
      "\u001b[1m70/70\u001b[0m \u001b[32m━━━━━━━━━━━━━━━━━━━━\u001b[0m\u001b[37m\u001b[0m \u001b[1m7s\u001b[0m 101ms/step - accuracy: 0.9914 - loss: 0.0345 - val_accuracy: 0.9883 - val_loss: 0.0469\n",
      "\u001b[1m35/35\u001b[0m \u001b[32m━━━━━━━━━━━━━━━━━━━━\u001b[0m\u001b[37m\u001b[0m \u001b[1m2s\u001b[0m 36ms/step\n",
      "Precision with Activation: sigmoid: 0.97\n",
      "Accuracy with Activation: sigmoid: 0.9883\n",
      "Epoch 1/5\n"
     ]
    },
    {
     "name": "stderr",
     "output_type": "stream",
     "text": [
      "c:\\Users\\Girija\\Desktop\\AI Msc\\BLOCK 04 Research Methods and Applications\\PART B\\ASSESSMENT 3\\SDS_CNN\\.venv\\lib\\site-packages\\keras\\src\\layers\\core\\embedding.py:90: UserWarning: Argument `input_length` is deprecated. Just remove it.\n",
      "  warnings.warn(\n"
     ]
    },
    {
     "name": "stdout",
     "output_type": "stream",
     "text": [
      "\u001b[1m70/70\u001b[0m \u001b[32m━━━━━━━━━━━━━━━━━━━━\u001b[0m\u001b[37m\u001b[0m \u001b[1m13s\u001b[0m 111ms/step - accuracy: 0.8506 - loss: 0.4291 - val_accuracy: 0.9731 - val_loss: 0.0755\n",
      "Epoch 2/5\n",
      "\u001b[1m70/70\u001b[0m \u001b[32m━━━━━━━━━━━━━━━━━━━━\u001b[0m\u001b[37m\u001b[0m \u001b[1m7s\u001b[0m 93ms/step - accuracy: 0.9792 - loss: 0.0735 - val_accuracy: 0.9874 - val_loss: 0.0451\n",
      "Epoch 3/5\n",
      "\u001b[1m70/70\u001b[0m \u001b[32m━━━━━━━━━━━━━━━━━━━━\u001b[0m\u001b[37m\u001b[0m \u001b[1m6s\u001b[0m 92ms/step - accuracy: 0.9904 - loss: 0.0345 - val_accuracy: 0.9883 - val_loss: 0.0464\n",
      "Epoch 4/5\n",
      "\u001b[1m70/70\u001b[0m \u001b[32m━━━━━━━━━━━━━━━━━━━━\u001b[0m\u001b[37m\u001b[0m \u001b[1m7s\u001b[0m 94ms/step - accuracy: 0.9952 - loss: 0.0215 - val_accuracy: 0.9874 - val_loss: 0.0495\n",
      "Epoch 5/5\n",
      "\u001b[1m70/70\u001b[0m \u001b[32m━━━━━━━━━━━━━━━━━━━━\u001b[0m\u001b[37m\u001b[0m \u001b[1m7s\u001b[0m 92ms/step - accuracy: 0.9983 - loss: 0.0105 - val_accuracy: 0.9874 - val_loss: 0.0520\n",
      "\u001b[1m35/35\u001b[0m \u001b[32m━━━━━━━━━━━━━━━━━━━━\u001b[0m\u001b[37m\u001b[0m \u001b[1m2s\u001b[0m 34ms/step\n",
      "Precision with Activation: elu: 0.98\n",
      "Accuracy with Activation: elu: 0.9874\n"
     ]
    }
   ],
   "source": [
    "# Convert categorical labels to numerical labels\n",
    "label_encoder = LabelEncoder()\n",
    "data['Category'] = label_encoder.fit_transform(data['Category'])\n",
    "\n",
    "# Split data into training and testing sets\n",
    "messages_train, messages_test, categories_train, categories_test = train_test_split(data['Message'], data['Category'], test_size=0.2, random_state=42)\n",
    "\n",
    "# Tokenize the text data\n",
    "maximum_words_to_consider = 1000\n",
    "tokenizer = Tokenizer(num_words=maximum_words_to_consider)\n",
    "tokenizer.fit_on_texts(messages_train)\n",
    "messages_train_sequences = tokenizer.texts_to_sequences(messages_train)\n",
    "messages_test_sequences = tokenizer.texts_to_sequences(messages_test)\n",
    "\n",
    "# Pad sequences to ensure uniform length\n",
    "maximum_sequence_length = 100\n",
    "messages_train_padded = pad_sequences(messages_train_sequences, maxlen=maximum_sequence_length)\n",
    "messages_test_padded = pad_sequences(messages_test_sequences, maxlen=maximum_sequence_length)\n",
    "\n",
    "# Set parameters for the CNN model\n",
    "embedding_dimension = 50\n",
    "number_of_filters = 64\n",
    "filter_kernel_size = 5\n",
    "batch_size = 64\n",
    "\n",
    "# Test different activation functions for the CNN model\n",
    "activation_functions = ['relu', 'tanh', 'sigmoid', 'elu']\n",
    "for activation in activation_functions:\n",
    "    # Define the CNN model architecture\n",
    "    model = Sequential([\n",
    "        Embedding(input_dim=maximum_words_to_consider, output_dim=embedding_dimension, input_length=maximum_sequence_length),   \n",
    "        Conv1D(filters=number_of_filters, kernel_size=filter_kernel_size, padding='same', activation=activation),    \n",
    "        Bidirectional(LSTM(64, return_sequences=True)),  # Bidirectional LSTM Layer\n",
    "        GlobalMaxPooling1D(),  # Apply GlobalMaxPooling1D\n",
    "        Dense(128, activation=activation),\n",
    "        Dropout(0.5),\n",
    "        Dense(1, activation='sigmoid') \n",
    "    ])\n",
    "    \n",
    "    # Compile the model\n",
    "    model.compile(optimizer=\"adam\", loss='binary_crossentropy', metrics=['accuracy'])\n",
    "    \n",
    "    # Train the model\n",
    "    epochs = 5\n",
    "    history = model.fit(messages_train_padded, categories_train, batch_size=batch_size, epochs=epochs, validation_data=(messages_test_padded, categories_test))\n",
    "    \n",
    "    # Predict probabilities\n",
    "    y_pred_prob = model.predict(messages_test_padded)\n",
    "    \n",
    "    # Convert probabilities to binary class labels\n",
    "    y_pred = (y_pred_prob > 0.5).astype(int)\n",
    "    \n",
    "    # Calculate precision\n",
    "    precision = precision_score(categories_test, y_pred)\n",
    "    \n",
    "    # Evaluate the model\n",
    "    loss, accuracy = model.evaluate(messages_test_padded, categories_test, verbose=0)\n",
    "    \n",
    "    # Print precision and accuracy for each activation function\n",
    "    print(f'Precision with Activation: {activation}: {precision:.2f}')\n",
    "    print(f\"Accuracy with Activation: {activation}: {accuracy:.4f}\")\n"
   ]
  }
 ],
 "metadata": {
  "kernelspec": {
   "display_name": ".vnev",
   "language": "python",
   "name": "python3"
  },
  "language_info": {
   "codemirror_mode": {
    "name": "ipython",
    "version": 3
   },
   "file_extension": ".py",
   "mimetype": "text/x-python",
   "name": "python",
   "nbconvert_exporter": "python",
   "pygments_lexer": "ipython3",
   "version": "3.10.4"
  }
 },
 "nbformat": 4,
 "nbformat_minor": 2
}
