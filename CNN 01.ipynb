{
 "cells": [
  {
   "cell_type": "markdown",
   "metadata": {},
   "source": [
    "## Email span detection using Convolutional Neural Networks(CNN) with Sequential API \n"
   ]
  },
  {
   "cell_type": "markdown",
   "metadata": {},
   "source": [
    "# Variant 1: Convolutional Neural Network (CNN) with GlobalMaxPooling1D\n"
   ]
  },
  {
   "cell_type": "code",
   "execution_count": 83,
   "metadata": {},
   "outputs": [],
   "source": [
    "import pandas as pd\n",
    "import numpy as np\n",
    "from sklearn.model_selection import train_test_split\n",
    "from sklearn.preprocessing import LabelEncoder\n",
    "from tensorflow.keras.preprocessing.text import Tokenizer\n",
    "from tensorflow.keras.preprocessing.sequence import pad_sequences\n",
    "from tensorflow.keras.models import Sequential\n",
    "from tensorflow.keras.layers import Embedding, Conv1D, GlobalMaxPooling1D, Dense\n",
    "from tensorflow.keras.optimizers import SGD, Adam, RMSprop\n"
   ]
  },
  {
   "cell_type": "markdown",
   "metadata": {},
   "source": [
    "### STEP 0: Preprocessing Data"
   ]
  },
  {
   "cell_type": "code",
   "execution_count": 84,
   "metadata": {},
   "outputs": [],
   "source": [
    "\n",
    "#Load the dataset\n",
    "data = pd.read_csv('test_data.csv')\n",
    "\n",
    "# Convert text in 'message' column to lowercase\n",
    "data['Message'] = data['Message'].apply(lambda x: x.lower())\n"
   ]
  },
  {
   "cell_type": "markdown",
   "metadata": {},
   "source": [
    "### STEP 1: Data Splitting"
   ]
  },
  {
   "cell_type": "code",
   "execution_count": 85,
   "metadata": {},
   "outputs": [
    {
     "name": "stdout",
     "output_type": "stream",
     "text": [
      "Training data shape: (4457,), Training labels shape: (4457,)\n",
      "Test data shape: (1115,), Test labels shape: (1115,)\n"
     ]
    }
   ],
   "source": [
    "\n",
    "#LabelEncoder is a utility class in scikit-learn that converts categorical labels into numerical labels.\n",
    "label_encoder = LabelEncoder()\n",
    "#Assign 'Category' column in the data DataFrame.\n",
    "data['Category'] = label_encoder.fit_transform(data['Category'])\n",
    "# Split the dataset into training and testing sets\n",
    "X_train, X_test, y_train, y_test = train_test_split(data['Message'], data['Category'], test_size=0.2, random_state=30)\n",
    "\n",
    "\n",
    "print(f\"Training data shape: {X_train.shape}, Training labels shape: {y_train.shape}\")\n",
    "print(f\"Test data shape: {X_test.shape}, Test labels shape: {y_test.shape}\")"
   ]
  },
  {
   "cell_type": "markdown",
   "metadata": {},
   "source": [
    "### STEP 2: Model Architecture Design"
   ]
  },
  {
   "cell_type": "code",
   "execution_count": 86,
   "metadata": {},
   "outputs": [
    {
     "name": "stderr",
     "output_type": "stream",
     "text": [
      "c:\\Users\\Girija\\Desktop\\AI Msc\\BLOCK 04 Research Methods and Applications\\PART B\\ASSESSMENT 3\\SDS_CNN\\.venv\\lib\\site-packages\\keras\\src\\layers\\core\\embedding.py:90: UserWarning: Argument `input_length` is deprecated. Just remove it.\n",
      "  warnings.warn(\n"
     ]
    }
   ],
   "source": [
    "# Tokenize the text data\n",
    "maximum_words_to_consider = 1000 # This variable determines the maximum number of unique words to be considered in the tokenizer. In this case, it's set to 1000, meaning only the top 1000 most frequent words will be considered.\n",
    "\n",
    "tokenizer = Tokenizer(num_words=maximum_words_to_consider) #Tokenizer is a class from the Keras library used for tokenizing text data.\n",
    "#num_words is a parameter that specifies the maximum number of words to keep, based on word frequency. Words outside this limit will be ignored.\n",
    "tokenizer.fit_on_texts(X_train)\n",
    "\n",
    "# Convert training and testing text data to sequences using the tokenizer\n",
    "X_train_sequences = tokenizer.texts_to_sequences(X_train)\n",
    "X_test_sequences = tokenizer.texts_to_sequences(X_test)\n",
    "\n",
    "# Set the maximum sequence length\n",
    "maximum_sequence_length = 100\n",
    "\n",
    "# Pad the sequences to ensure uniform length\n",
    "X_train_padded = pad_sequences(X_train_sequences, maxlen=maximum_sequence_length)\n",
    "X_test_padded = pad_sequences(X_test_sequences, maxlen=maximum_sequence_length)\n",
    "\n",
    "# Define parameters for the embedding layer\n",
    "embedding_dimension = 50\n",
    "\n",
    "# Define parameters for the convolutional layer\n",
    "number_of_filters = 64\n",
    "filter_kernel_size = 5\n",
    "\n",
    "# Build the sequential model\n",
    "model = Sequential([\n",
    "    # Embedding Layer\n",
    "    Embedding(input_dim=maximum_words_to_consider, output_dim=embedding_dimension, input_length=maximum_sequence_length),\n",
    "    # Convolutional Layer 1 -- padding=\"same\" means input and output have same spatial dimension\n",
    "    Conv1D(filters=number_of_filters, kernel_size=filter_kernel_size, padding='same', activation='relu'),\n",
    "    # Max Pooling Layer 1\n",
    "    GlobalMaxPooling1D(),\n",
    "    # Output Layer\n",
    "    Dense(1, activation='sigmoid')\n",
    "])\n"
   ]
  },
  {
   "cell_type": "markdown",
   "metadata": {},
   "source": [
    "### STEP 3: Model Compilation"
   ]
  },
  {
   "cell_type": "code",
   "execution_count": 87,
   "metadata": {},
   "outputs": [],
   "source": [
    "\n",
    "\n",
    "# Compiles the model with the Adam optimizer, binary crossentropy loss function, and accuracy metric.\n",
    "\n",
    "model.compile(optimizer='adam', loss='binary_crossentropy', metrics=[\"accuracy\"])\n"
   ]
  },
  {
   "cell_type": "markdown",
   "metadata": {},
   "source": [
    "### STEP 4: Model Training"
   ]
  },
  {
   "cell_type": "code",
   "execution_count": 88,
   "metadata": {},
   "outputs": [
    {
     "name": "stdout",
     "output_type": "stream",
     "text": [
      "Epoch 1/5\n",
      "\u001b[1m70/70\u001b[0m \u001b[32m━━━━━━━━━━━━━━━━━━━━\u001b[0m\u001b[37m\u001b[0m \u001b[1m7s\u001b[0m 23ms/step - accuracy: 0.8702 - loss: 0.4655 - val_accuracy: 0.8924 - val_loss: 0.2364\n",
      "Epoch 2/5\n",
      "\u001b[1m70/70\u001b[0m \u001b[32m━━━━━━━━━━━━━━━━━━━━\u001b[0m\u001b[37m\u001b[0m \u001b[1m1s\u001b[0m 17ms/step - accuracy: 0.9404 - loss: 0.1663 - val_accuracy: 0.9857 - val_loss: 0.0567\n",
      "Epoch 3/5\n",
      "\u001b[1m70/70\u001b[0m \u001b[32m━━━━━━━━━━━━━━━━━━━━\u001b[0m\u001b[37m\u001b[0m \u001b[1m1s\u001b[0m 14ms/step - accuracy: 0.9855 - loss: 0.0530 - val_accuracy: 0.9857 - val_loss: 0.0421\n",
      "Epoch 4/5\n",
      "\u001b[1m70/70\u001b[0m \u001b[32m━━━━━━━━━━━━━━━━━━━━\u001b[0m\u001b[37m\u001b[0m \u001b[1m1s\u001b[0m 11ms/step - accuracy: 0.9898 - loss: 0.0385 - val_accuracy: 0.9857 - val_loss: 0.0400\n",
      "Epoch 5/5\n",
      "\u001b[1m70/70\u001b[0m \u001b[32m━━━━━━━━━━━━━━━━━━━━\u001b[0m\u001b[37m\u001b[0m \u001b[1m1s\u001b[0m 9ms/step - accuracy: 0.9949 - loss: 0.0222 - val_accuracy: 0.9830 - val_loss: 0.0419\n"
     ]
    }
   ],
   "source": [
    " # Define the number of epochs (iterations over the entire dataset) for training the model\n",
    "number_of_epochs = 5\n",
    "batch_size = 64\n",
    "\n",
    "# Fit the model to the training data, specifying batch size, number of epochs, and validation data\n",
    "history = model.fit(X_train_padded, y_train, batch_size=batch_size, epochs=number_of_epochs, validation_data=(X_test_padded, y_test))\n",
    "\n"
   ]
  },
  {
   "cell_type": "code",
   "execution_count": 89,
   "metadata": {},
   "outputs": [],
   "source": [
    "import matplotlib.pyplot as plt"
   ]
  },
  {
   "cell_type": "code",
   "execution_count": 90,
   "metadata": {},
   "outputs": [
    {
     "name": "stdout",
     "output_type": "stream",
     "text": [
      "dict_keys(['accuracy', 'loss', 'val_accuracy', 'val_loss'])\n"
     ]
    },
    {
     "data": {
      "image/png": "[encoded data removed]",
      "text/plain": [
       "<Figure size 1200x400 with 2 Axes>"
      ]
     },
     "metadata": {},
     "output_type": "display_data"
    }
   ],
   "source": [
    "def plot_model_history(history):\n",
    "    # values to plot\n",
    "    #  loss: loss value for training data\n",
    "    #  accuracy: accuracy value for training data\n",
    "    #  val_loss: loss value for validation data\n",
    "    #  val_accuracy: accuracy value for validation data\n",
    "    print(history.history.keys())\n",
    "\n",
    "    # Plot training & validation accuracy values\n",
    "    plt.figure(figsize=(12, 4))\n",
    "\n",
    "    plt.subplot(1, 2, 1)\n",
    "    plt.plot(history.history['accuracy'])\n",
    "    plt.plot(history.history['val_accuracy'])\n",
    "    plt.title('Model accuracy')\n",
    "    plt.ylabel('Accuracy')\n",
    "    plt.xlabel('Epoch')\n",
    "    plt.legend(['Training Accuracy', 'Validation Accuracy'], loc='upper left')\n",
    "\n",
    "    # Plot training & validation loss values\n",
    "    plt.subplot(1, 2, 2)\n",
    "    plt.plot(history.history['loss'])\n",
    "    plt.plot(history.history['val_loss'])\n",
    "    plt.title('Model loss')\n",
    "    plt.ylabel('Loss')\n",
    "    plt.xlabel('Epoch')\n",
    "    plt.legend(['Training Loss', 'Validation Loss'], loc='upper left')\n",
    "    plt.show()\n",
    "\n",
    "plot_model_history(history)"
   ]
  },
  {
   "cell_type": "markdown",
   "metadata": {},
   "source": [
    "## Predict Single Input"
   ]
  },
  {
   "cell_type": "code",
   "execution_count": 91,
   "metadata": {},
   "outputs": [],
   "source": [
    "# spam or ham prediction\n",
    "def predict_spam_or_ham(message):\n",
    "    # Tokenize and pad the input message\n",
    "    message_sequences = tokenizer.texts_to_sequences([message])\n",
    "    message_padded = pad_sequences(message_sequences, maxlen=maximum_sequence_length)\n",
    "    \n",
    "    # Make predictions\n",
    "    prediction = model.predict(message_padded)\n",
    "    \n",
    "    print(prediction)\n",
    "    # Convert prediction to label (0 for ham, 1 for spam)\n",
    "    label = \"spam\" if prediction[0][0] > 0.5 else \"ham\"\n",
    "    \n",
    "    return label\n"
   ]
  },
  {
   "cell_type": "code",
   "execution_count": 92,
   "metadata": {},
   "outputs": [
    {
     "name": "stdout",
     "output_type": "stream",
     "text": [
      "\u001b[1m1/1\u001b[0m \u001b[32m━━━━━━━━━━━━━━━━━━━━\u001b[0m\u001b[37m\u001b[0m \u001b[1m0s\u001b[0m 88ms/step\n",
      "[[0.9996663]]\n",
      "Predicted Label: spam\n"
     ]
    }
   ],
   "source": [
    "\n",
    "# Example message\n",
    "example_message = \"Congratulations! You've won a free trip to Hawaii. Claim your prize now!\"\n",
    "\n",
    "# Predict if the message is spam or ham\n",
    "prediction = predict_spam_or_ham(example_message)\n",
    "print(\"Predicted Label:\", prediction)"
   ]
  },
  {
   "cell_type": "code",
   "execution_count": 93,
   "metadata": {},
   "outputs": [
    {
     "name": "stdout",
     "output_type": "stream",
     "text": [
      "\u001b[1m1/1\u001b[0m \u001b[32m━━━━━━━━━━━━━━━━━━━━\u001b[0m\u001b[37m\u001b[0m \u001b[1m0s\u001b[0m 25ms/step\n",
      "[[0.09890679]]\n",
      "Predicted Label: ham\n"
     ]
    }
   ],
   "source": [
    "\n",
    "# Example message\n",
    "example_message = \"This email provides relevant information about an upcoming programming workshop and encourages the recipient to RSVP if interested. It does not contain any elements typically associated with spam, such as unsolicited offers, suspicious links, or irrelevant content.\"\n",
    "\n",
    "# Predict if the message is spam or ham\n",
    "prediction = predict_spam_or_ham(example_message)\n",
    "print(\"Predicted Label:\", prediction)"
   ]
  },
  {
   "cell_type": "markdown",
   "metadata": {},
   "source": [
    "# Performance Analysis"
   ]
  },
  {
   "cell_type": "markdown",
   "metadata": {},
   "source": [
    "## Model Evaluation"
   ]
  },
  {
   "cell_type": "markdown",
   "metadata": {},
   "source": [
    "1. **Accuracy**: Measure the overall accuracy of the model on the test dataset.\n"
   ]
  },
  {
   "cell_type": "code",
   "execution_count": 94,
   "metadata": {},
   "outputs": [
    {
     "name": "stdout",
     "output_type": "stream",
     "text": [
      "\u001b[1m35/35\u001b[0m \u001b[32m━━━━━━━━━━━━━━━━━━━━\u001b[0m\u001b[37m\u001b[0m \u001b[1m0s\u001b[0m 3ms/step - accuracy: 0.9810 - loss: 0.0532\n",
      "Test Accuracy: 0.9829596281051636\n"
     ]
    }
   ],
   "source": [
    "\n",
    "# Evaluate the model\n",
    "loss, accuracy = model.evaluate(X_test_padded, y_test)\n",
    "print(\"Test Accuracy:\", accuracy)\n"
   ]
  },
  {
   "cell_type": "markdown",
   "metadata": {},
   "source": [
    "2. **Precision**: Evaluate how many of the predicted positives are actual positives.\n"
   ]
  },
  {
   "cell_type": "code",
   "execution_count": 95,
   "metadata": {},
   "outputs": [],
   "source": [
    "\n",
    "from sklearn.metrics import precision_score"
   ]
  },
  {
   "cell_type": "code",
   "execution_count": 96,
   "metadata": {},
   "outputs": [
    {
     "name": "stdout",
     "output_type": "stream",
     "text": [
      "\u001b[1m35/35\u001b[0m \u001b[32m━━━━━━━━━━━━━━━━━━━━\u001b[0m\u001b[37m\u001b[0m \u001b[1m0s\u001b[0m 3ms/step\n",
      "Precision: 0.96\n"
     ]
    }
   ],
   "source": [
    "\n",
    "# Predict probabilities ( the output is in probability, bacuse we use a sigmoid activation function in the final layer of your neural network, which outputs probabilities between 0 and 1.)\n",
    "y_pred_prob = model.predict(X_test_padded)\n",
    "\n",
    "\n",
    "#note that common threshold value is 0.5\n",
    "# Convert probabilities to binary class labels\n",
    "y_pred = (y_pred_prob > 0.5).astype(int)\n",
    "\n",
    "\n",
    "# Calculate precision\n",
    "precision = precision_score(y_test, y_pred)\n",
    "print(f'Precision: {precision:.2f}')"
   ]
  },
  {
   "cell_type": "markdown",
   "metadata": {},
   "source": [
    "3. **Recall**: Determine how many of the actual positives are correctly identified by the model.\n"
   ]
  },
  {
   "cell_type": "code",
   "execution_count": 97,
   "metadata": {},
   "outputs": [],
   "source": [
    "from sklearn.metrics import recall_score\n"
   ]
  },
  {
   "cell_type": "code",
   "execution_count": 98,
   "metadata": {},
   "outputs": [
    {
     "name": "stdout",
     "output_type": "stream",
     "text": [
      "Recall: 0.90\n"
     ]
    }
   ],
   "source": [
    "\n",
    "# Calculate recall\n",
    "recall = recall_score(y_test, y_pred)\n",
    "print(f'Recall: {recall:.2f}')"
   ]
  },
  {
   "cell_type": "markdown",
   "metadata": {},
   "source": [
    "4. **F1 Score**: Calculate the harmonic mean of precision and recall to get a single performance metric.\n"
   ]
  },
  {
   "cell_type": "code",
   "execution_count": 99,
   "metadata": {},
   "outputs": [],
   "source": [
    "from sklearn.metrics import f1_score\n"
   ]
  },
  {
   "cell_type": "code",
   "execution_count": 100,
   "metadata": {},
   "outputs": [
    {
     "name": "stdout",
     "output_type": "stream",
     "text": [
      "F1 Score: 1.00\n"
     ]
    }
   ],
   "source": [
    "\n",
    "# Assuming y_true and y_pred are the true labels and predicted labels, respectively\n",
    "f1 = f1_score(y_pred, y_pred)\n",
    "# Calculate F1 score\n",
    "print(f'F1 Score: {f1:.2f}')"
   ]
  },
  {
   "cell_type": "markdown",
   "metadata": {},
   "source": [
    "5. **ROC Curve**: The Receiver Operating Characteristic (ROC) curve plots the true positive rate (TPR) against the false positive rate (FPR) at various threshold settings.\n",
    "The Area Under the ROC Curve (AUC-ROC) quantifies the performance of the model across all possible classification thresholds. A higher AUC-ROC value indicates better discrimination between spam and non-spam classes."
   ]
  },
  {
   "cell_type": "code",
   "execution_count": 101,
   "metadata": {},
   "outputs": [
    {
     "name": "stdout",
     "output_type": "stream",
     "text": [
      "\u001b[1m35/35\u001b[0m \u001b[32m━━━━━━━━━━━━━━━━━━━━\u001b[0m\u001b[37m\u001b[0m \u001b[1m0s\u001b[0m 3ms/step\n"
     ]
    },
    {
     "data": {
      "image/png": "[encoded data removed]",
      "text/plain": [
       "<Figure size 640x480 with 1 Axes>"
      ]
     },
     "metadata": {},
     "output_type": "display_data"
    }
   ],
   "source": [
    "import matplotlib.pyplot as plt\n",
    "from sklearn.metrics import roc_curve, auc\n",
    "\n",
    "# Step 9: Make predictions on the test set\n",
    "predicted_probabilities = model.predict(X_test_padded)\n",
    "\n",
    "# Step 10: Compute ROC curve and AUC-ROC\n",
    "false_positive_rate, true_positive_rate, thresholds = roc_curve(y_test, predicted_probabilities)\n",
    "roc_area_under_curve = auc(false_positive_rate, true_positive_rate)\n",
    "\n",
    "# Step 11: Plot ROC curve\n",
    "plt.figure()\n",
    "plt.plot(false_positive_rate, true_positive_rate, color='darkorange', lw=2, label='ROC curve (area = %0.2f)' % roc_area_under_curve)\n",
    "plt.plot([0, 1], [0, 1], color='navy', lw=2, linestyle='--')\n",
    "plt.xlim([0.0, 1.0])\n",
    "plt.ylim([0.0, 1.05])\n",
    "plt.xlabel('False Positive Rate')\n",
    "plt.ylabel('True Positive Rate')\n",
    "plt.title('Receiver Operating Characteristic (ROC) Curve')\n",
    "plt.legend(loc='lower right')\n",
    "plt.show()\n"
   ]
  },
  {
   "cell_type": "markdown",
   "metadata": {},
   "source": [
    "6. **Confusion Matrix**: Analyze the confusion matrix to understand the true positives, false positives, true negatives, and false negatives.\n"
   ]
  },
  {
   "cell_type": "code",
   "execution_count": 102,
   "metadata": {},
   "outputs": [],
   "source": [
    "from sklearn.metrics import confusion_matrix\n"
   ]
  },
  {
   "cell_type": "code",
   "execution_count": 103,
   "metadata": {},
   "outputs": [
    {
     "name": "stdout",
     "output_type": "stream",
     "text": [
      "Confusion Matrix:\n",
      "[[974   5]\n",
      " [ 14 122]]\n"
     ]
    }
   ],
   "source": [
    "\n",
    "# Confusion matrix\n",
    "conf_matrix = confusion_matrix(y_test, y_pred)\n",
    "print(\"Confusion Matrix:\")\n",
    "print(conf_matrix)"
   ]
  },
  {
   "cell_type": "markdown",
   "metadata": {},
   "source": [
    "plot confusion matrix"
   ]
  },
  {
   "cell_type": "code",
   "execution_count": 104,
   "metadata": {},
   "outputs": [],
   "source": [
    "import seaborn as sns\n",
    "import matplotlib.pyplot as plt"
   ]
  },
  {
   "cell_type": "code",
   "execution_count": 105,
   "metadata": {},
   "outputs": [
    {
     "data": {
      "image/png": "[encoded data removed]",
      "text/plain": [
       "<Figure size 640x480 with 2 Axes>"
      ]
     },
     "metadata": {},
     "output_type": "display_data"
    }
   ],
   "source": [
    "# Plot confusion matrix\n",
    "sns.heatmap(conf_matrix, annot=True, cmap='Blues', fmt='g')\n",
    "plt.xlabel('Predicted labels')\n",
    "plt.ylabel('True labels')\n",
    "plt.title('Confusion Matrix')\n",
    "plt.show()\n"
   ]
  },
  {
   "cell_type": "markdown",
   "metadata": {},
   "source": [
    "## Resource Utilization\n"
   ]
  },
  {
   "cell_type": "markdown",
   "metadata": {},
   "source": [
    "1. **Training Time**: Measure the time taken to train the model."
   ]
  },
  {
   "cell_type": "code",
   "execution_count": 106,
   "metadata": {},
   "outputs": [],
   "source": [
    "import time"
   ]
  },
  {
   "cell_type": "code",
   "execution_count": 107,
   "metadata": {},
   "outputs": [
    {
     "name": "stdout",
     "output_type": "stream",
     "text": [
      "Epoch 1/5\n",
      "\u001b[1m70/70\u001b[0m \u001b[32m━━━━━━━━━━━━━━━━━━━━\u001b[0m\u001b[37m\u001b[0m \u001b[1m1s\u001b[0m 18ms/step - accuracy: 0.9943 - loss: 0.0239 - val_accuracy: 0.9794 - val_loss: 0.0450\n",
      "Epoch 2/5\n",
      "\u001b[1m70/70\u001b[0m \u001b[32m━━━━━━━━━━━━━━━━━━━━\u001b[0m\u001b[37m\u001b[0m \u001b[1m1s\u001b[0m 13ms/step - accuracy: 0.9969 - loss: 0.0146 - val_accuracy: 0.9785 - val_loss: 0.0496\n",
      "Epoch 3/5\n",
      "\u001b[1m70/70\u001b[0m \u001b[32m━━━━━━━━━━━━━━━━━━━━\u001b[0m\u001b[37m\u001b[0m \u001b[1m1s\u001b[0m 10ms/step - accuracy: 0.9983 - loss: 0.0098 - val_accuracy: 0.9785 - val_loss: 0.0528\n",
      "Epoch 4/5\n",
      "\u001b[1m70/70\u001b[0m \u001b[32m━━━━━━━━━━━━━━━━━━━━\u001b[0m\u001b[37m\u001b[0m \u001b[1m1s\u001b[0m 12ms/step - accuracy: 0.9990 - loss: 0.0074 - val_accuracy: 0.9785 - val_loss: 0.0543\n",
      "Epoch 5/5\n",
      "\u001b[1m70/70\u001b[0m \u001b[32m━━━━━━━━━━━━━━━━━━━━\u001b[0m\u001b[37m\u001b[0m \u001b[1m1s\u001b[0m 12ms/step - accuracy: 0.9981 - loss: 0.0077 - val_accuracy: 0.9776 - val_loss: 0.0570\n",
      "Training time: 4.78 seconds\n"
     ]
    }
   ],
   "source": [
    "\n",
    "# Measure the training time\n",
    "start_time = time.time()\n",
    "\n",
    "# Train the model\n",
    "history = model.fit(X_train_padded, y_train, batch_size=batch_size, epochs=number_of_epochs, validation_data=(X_test_padded, y_test))\n",
    "\n",
    "end_time = time.time()\n",
    "training_time = end_time - start_time\n",
    "print(f\"Training time: {training_time:.2f} seconds\")"
   ]
  },
  {
   "cell_type": "markdown",
   "metadata": {},
   "source": [
    "2. **Inference Time**: Check the time taken for the model to make predictions.\n"
   ]
  },
  {
   "cell_type": "code",
   "execution_count": 108,
   "metadata": {},
   "outputs": [
    {
     "name": "stdout",
     "output_type": "stream",
     "text": [
      "\u001b[1m35/35\u001b[0m \u001b[32m━━━━━━━━━━━━━━━━━━━━\u001b[0m\u001b[37m\u001b[0m \u001b[1m0s\u001b[0m 3ms/step\n",
      "Inference Time: 0.2345 seconds\n"
     ]
    }
   ],
   "source": [
    "\n",
    "# Measure inference time\n",
    "start_time = time.time()\n",
    "y_pred_prob = model.predict(X_test_padded)\n",
    "end_time = time.time()\n",
    "inference_time = end_time - start_time\n",
    "print(f'Inference Time: {inference_time:.4f} seconds')\n"
   ]
  },
  {
   "cell_type": "markdown",
   "metadata": {},
   "source": [
    "\n",
    "## Hyperparameter Tuning\n"
   ]
  },
  {
   "cell_type": "markdown",
   "metadata": {},
   "source": [
    "1. **Learning Rate**: Optimize and analyze the effect of different learning rates."
   ]
  },
  {
   "cell_type": "code",
   "execution_count": 109,
   "metadata": {},
   "outputs": [
    {
     "name": "stdout",
     "output_type": "stream",
     "text": [
      "Epoch 1/5\n"
     ]
    },
    {
     "name": "stderr",
     "output_type": "stream",
     "text": [
      "c:\\Users\\Girija\\Desktop\\AI Msc\\BLOCK 04 Research Methods and Applications\\PART B\\ASSESSMENT 3\\SDS_CNN\\.venv\\lib\\site-packages\\keras\\src\\layers\\core\\embedding.py:90: UserWarning: Argument `input_length` is deprecated. Just remove it.\n",
      "  warnings.warn(\n"
     ]
    },
    {
     "name": "stdout",
     "output_type": "stream",
     "text": [
      "\u001b[1m140/140\u001b[0m \u001b[32m━━━━━━━━━━━━━━━━━━━━\u001b[0m\u001b[37m\u001b[0m \u001b[1m8s\u001b[0m 22ms/step - accuracy: 0.8135 - loss: 0.4288 - val_accuracy: 0.9803 - val_loss: 0.0778\n",
      "Epoch 2/5\n",
      "\u001b[1m140/140\u001b[0m \u001b[32m━━━━━━━━━━━━━━━━━━━━\u001b[0m\u001b[37m\u001b[0m \u001b[1m2s\u001b[0m 11ms/step - accuracy: 0.9814 - loss: 0.0658 - val_accuracy: 0.9865 - val_loss: 0.0483\n",
      "Epoch 3/5\n",
      "\u001b[1m140/140\u001b[0m \u001b[32m━━━━━━━━━━━━━━━━━━━━\u001b[0m\u001b[37m\u001b[0m \u001b[1m1s\u001b[0m 8ms/step - accuracy: 0.9923 - loss: 0.0318 - val_accuracy: 0.9857 - val_loss: 0.0456\n",
      "Epoch 4/5\n",
      "\u001b[1m140/140\u001b[0m \u001b[32m━━━━━━━━━━━━━━━━━━━━\u001b[0m\u001b[37m\u001b[0m \u001b[1m2s\u001b[0m 16ms/step - accuracy: 0.9964 - loss: 0.0210 - val_accuracy: 0.9857 - val_loss: 0.0451\n",
      "Epoch 5/5\n",
      "\u001b[1m140/140\u001b[0m \u001b[32m━━━━━━━━━━━━━━━━━━━━\u001b[0m\u001b[37m\u001b[0m \u001b[1m3s\u001b[0m 17ms/step - accuracy: 0.9970 - loss: 0.0152 - val_accuracy: 0.9839 - val_loss: 0.0473\n",
      "\u001b[1m35/35\u001b[0m \u001b[32m━━━━━━━━━━━━━━━━━━━━\u001b[0m\u001b[37m\u001b[0m \u001b[1m1s\u001b[0m 11ms/step\n",
      "Accuracy with learning rate 0.001: 0.9839\n",
      "Precision with learning rate 0.001: 0.9456\n",
      "-----------------------------------\n"
     ]
    },
    {
     "name": "stderr",
     "output_type": "stream",
     "text": [
      "c:\\Users\\Girija\\Desktop\\AI Msc\\BLOCK 04 Research Methods and Applications\\PART B\\ASSESSMENT 3\\SDS_CNN\\.venv\\lib\\site-packages\\keras\\src\\layers\\core\\embedding.py:90: UserWarning: Argument `input_length` is deprecated. Just remove it.\n",
      "  warnings.warn(\n"
     ]
    },
    {
     "name": "stdout",
     "output_type": "stream",
     "text": [
      "Epoch 1/5\n",
      "\u001b[1m140/140\u001b[0m \u001b[32m━━━━━━━━━━━━━━━━━━━━\u001b[0m\u001b[37m\u001b[0m \u001b[1m9s\u001b[0m 25ms/step - accuracy: 0.9050 - loss: 0.2220 - val_accuracy: 0.9874 - val_loss: 0.0466\n",
      "Epoch 2/5\n",
      "\u001b[1m140/140\u001b[0m \u001b[32m━━━━━━━━━━━━━━━━━━━━\u001b[0m\u001b[37m\u001b[0m \u001b[1m2s\u001b[0m 16ms/step - accuracy: 0.9930 - loss: 0.0233 - val_accuracy: 0.9857 - val_loss: 0.0455\n",
      "Epoch 3/5\n",
      "\u001b[1m140/140\u001b[0m \u001b[32m━━━━━━━━━━━━━━━━━━━━\u001b[0m\u001b[37m\u001b[0m \u001b[1m3s\u001b[0m 18ms/step - accuracy: 0.9970 - loss: 0.0102 - val_accuracy: 0.9857 - val_loss: 0.0616\n",
      "Epoch 4/5\n",
      "\u001b[1m140/140\u001b[0m \u001b[32m━━━━━━━━━━━━━━━━━━━━\u001b[0m\u001b[37m\u001b[0m \u001b[1m2s\u001b[0m 14ms/step - accuracy: 0.9982 - loss: 0.0072 - val_accuracy: 0.9910 - val_loss: 0.0723\n",
      "Epoch 5/5\n",
      "\u001b[1m140/140\u001b[0m \u001b[32m━━━━━━━━━━━━━━━━━━━━\u001b[0m\u001b[37m\u001b[0m \u001b[1m3s\u001b[0m 17ms/step - accuracy: 0.9978 - loss: 0.0046 - val_accuracy: 0.9821 - val_loss: 0.0850\n",
      "\u001b[1m35/35\u001b[0m \u001b[32m━━━━━━━━━━━━━━━━━━━━\u001b[0m\u001b[37m\u001b[0m \u001b[1m1s\u001b[0m 13ms/step\n",
      "Accuracy with learning rate 0.01: 0.9821\n",
      "Precision with learning rate 0.01: 0.9448\n",
      "-----------------------------------\n"
     ]
    },
    {
     "name": "stderr",
     "output_type": "stream",
     "text": [
      "c:\\Users\\Girija\\Desktop\\AI Msc\\BLOCK 04 Research Methods and Applications\\PART B\\ASSESSMENT 3\\SDS_CNN\\.venv\\lib\\site-packages\\keras\\src\\layers\\core\\embedding.py:90: UserWarning: Argument `input_length` is deprecated. Just remove it.\n",
      "  warnings.warn(\n"
     ]
    },
    {
     "name": "stdout",
     "output_type": "stream",
     "text": [
      "Epoch 1/5\n",
      "\u001b[1m140/140\u001b[0m \u001b[32m━━━━━━━━━━━━━━━━━━━━\u001b[0m\u001b[37m\u001b[0m \u001b[1m8s\u001b[0m 19ms/step - accuracy: 0.8414 - loss: 4.9023 - val_accuracy: 0.9749 - val_loss: 0.6639\n",
      "Epoch 2/5\n",
      "\u001b[1m140/140\u001b[0m \u001b[32m━━━━━━━━━━━━━━━━━━━━\u001b[0m\u001b[37m\u001b[0m \u001b[1m2s\u001b[0m 14ms/step - accuracy: 0.9645 - loss: 1.2131 - val_accuracy: 0.9498 - val_loss: 0.9414\n",
      "Epoch 3/5\n",
      "\u001b[1m140/140\u001b[0m \u001b[32m━━━━━━━━━━━━━━━━━━━━\u001b[0m\u001b[37m\u001b[0m \u001b[1m2s\u001b[0m 14ms/step - accuracy: 0.9743 - loss: 1.0679 - val_accuracy: 0.9650 - val_loss: 2.7752\n",
      "Epoch 4/5\n",
      "\u001b[1m140/140\u001b[0m \u001b[32m━━━━━━━━━━━━━━━━━━━━\u001b[0m\u001b[37m\u001b[0m \u001b[1m1s\u001b[0m 8ms/step - accuracy: 0.9657 - loss: 1.3787 - val_accuracy: 0.9103 - val_loss: 4.3044\n",
      "Epoch 5/5\n",
      "\u001b[1m140/140\u001b[0m \u001b[32m━━━━━━━━━━━━━━━━━━━━\u001b[0m\u001b[37m\u001b[0m \u001b[1m1s\u001b[0m 9ms/step - accuracy: 0.9707 - loss: 2.8672 - val_accuracy: 0.9722 - val_loss: 2.9684\n",
      "\u001b[1m35/35\u001b[0m \u001b[32m━━━━━━━━━━━━━━━━━━━━\u001b[0m\u001b[37m\u001b[0m \u001b[1m0s\u001b[0m 5ms/step\n",
      "Accuracy with learning rate 0.1: 0.9722\n",
      "Precision with learning rate 0.1: 0.8782\n",
      "-----------------------------------\n",
      "Epoch 1/5\n"
     ]
    },
    {
     "name": "stderr",
     "output_type": "stream",
     "text": [
      "c:\\Users\\Girija\\Desktop\\AI Msc\\BLOCK 04 Research Methods and Applications\\PART B\\ASSESSMENT 3\\SDS_CNN\\.venv\\lib\\site-packages\\keras\\src\\layers\\core\\embedding.py:90: UserWarning: Argument `input_length` is deprecated. Just remove it.\n",
      "  warnings.warn(\n"
     ]
    },
    {
     "name": "stdout",
     "output_type": "stream",
     "text": [
      "\u001b[1m140/140\u001b[0m \u001b[32m━━━━━━━━━━━━━━━━━━━━\u001b[0m\u001b[37m\u001b[0m \u001b[1m3s\u001b[0m 8ms/step - accuracy: 0.8049 - loss: 13.6161 - val_accuracy: 0.9713 - val_loss: 16.9205\n",
      "Epoch 2/5\n",
      "\u001b[1m140/140\u001b[0m \u001b[32m━━━━━━━━━━━━━━━━━━━━\u001b[0m\u001b[37m\u001b[0m \u001b[1m1s\u001b[0m 8ms/step - accuracy: 0.9499 - loss: 31.4511 - val_accuracy: 0.9489 - val_loss: 30.1290\n",
      "Epoch 3/5\n",
      "\u001b[1m140/140\u001b[0m \u001b[32m━━━━━━━━━━━━━━━━━━━━\u001b[0m\u001b[37m\u001b[0m \u001b[1m1s\u001b[0m 8ms/step - accuracy: 0.9577 - loss: 19.4760 - val_accuracy: 0.9363 - val_loss: 72.1161\n",
      "Epoch 4/5\n",
      "\u001b[1m140/140\u001b[0m \u001b[32m━━━━━━━━━━━━━━━━━━━━\u001b[0m\u001b[37m\u001b[0m \u001b[1m1s\u001b[0m 7ms/step - accuracy: 0.9549 - loss: 6.1950 - val_accuracy: 0.9453 - val_loss: 201.7616\n",
      "Epoch 5/5\n",
      "\u001b[1m140/140\u001b[0m \u001b[32m━━━━━━━━━━━━━━━━━━━━\u001b[0m\u001b[37m\u001b[0m \u001b[1m1s\u001b[0m 6ms/step - accuracy: 0.9515 - loss: 13.5122 - val_accuracy: 0.9354 - val_loss: 34.7828\n",
      "\u001b[1m35/35\u001b[0m \u001b[32m━━━━━━━━━━━━━━━━━━━━\u001b[0m\u001b[37m\u001b[0m \u001b[1m0s\u001b[0m 4ms/step\n",
      "Accuracy with learning rate 0.3: 0.9354\n",
      "Precision with learning rate 0.3: 0.9425\n",
      "-----------------------------------\n"
     ]
    }
   ],
   "source": [
    "# Prepare the data for training and testing\n",
    "\n",
    "# Initialize a label encoder to convert categorical labels to numerical labels\n",
    "label_encoder = LabelEncoder()\n",
    "\n",
    "# Transform the 'Category' column in the data DataFrame to numerical labels\n",
    "data['Category'] = label_encoder.fit_transform(data['Category'])\n",
    "\n",
    "# Split the data into training and testing sets\n",
    "messages_train, messages_test, category_train, category_test = train_test_split(data['Message'], data['Category'], test_size=0.2, random_state=42)\n",
    "\n",
    "# Define the maximum number of words to consider for tokenization\n",
    "maximum_words_to_consider = 1000 \n",
    "\n",
    "# Initialize a tokenizer and fit it on the training data\n",
    "tokenizer = Tokenizer(num_words=maximum_words_to_consider) \n",
    "tokenizer.fit_on_texts(messages_train)\n",
    "\n",
    "# Convert the text data to sequences of numerical values\n",
    "X_train_seq = tokenizer.texts_to_sequences(messages_train)\n",
    "X_test_seq = tokenizer.texts_to_sequences(messages_test)\n",
    "\n",
    "# Set a maximum sequence length for padding\n",
    "maximum_sequence_length = 100\n",
    "\n",
    "# Pad the sequences to ensure uniform length\n",
    "X_train_padded = pad_sequences(X_train_seq, maxlen=maximum_sequence_length)\n",
    "X_test_padded = pad_sequences(X_test_seq, maxlen=maximum_sequence_length)\n",
    "\n",
    "# Define parameters for the CNN model\n",
    "embedding_dimension = 50\n",
    "number_of_filters = 64\n",
    "filter_kernel_size = 5\n",
    "\n",
    "# Define a list of learning rates to experiment with\n",
    "learning_rates = [0.001, 0.01, 0.1, 0.3]\n",
    "\n",
    "# Iterate over different learning rates\n",
    "for lr in learning_rates:\n",
    "    # Define the CNN model architecture\n",
    "    model = Sequential([\n",
    "        Embedding(input_dim=maximum_words_to_consider, output_dim=embedding_dimension, input_length=maximum_sequence_length),   \n",
    "        Conv1D(filters=number_of_filters, kernel_size=filter_kernel_size, padding='same', activation='relu'),\n",
    "        GlobalMaxPooling1D(),  # Apply GlobalMaxPooling1D after LSTM\n",
    "        Dense(1, activation='sigmoid')\n",
    "    ])\n",
    "\n",
    "    # Compile the model with the specified learning rate\n",
    "    optimizer = Adam(learning_rate=lr)\n",
    "    \n",
    "    # Train the model\n",
    "    model.compile(optimizer=optimizer, loss='binary_crossentropy', metrics=['accuracy'])\n",
    "    \n",
    "    # Define the number of epochs for training.\n",
    "    epochs = 5\n",
    "    \n",
    "    # Train the model on the training data.\n",
    "    history = model.fit(X_train_padded, category_train, epochs=epochs, validation_data=(X_test_padded, category_test))\n",
    "    \n",
    "    # Predict probabilities on the test data.\n",
    "    y_pred_prob = model.predict(X_test_padded)\n",
    "    \n",
    "    # Convert probabilities to binary class labels.\n",
    "    y_pred = (y_pred_prob > 0.5).astype(int)\n",
    "    \n",
    "    # Calculate precision score.\n",
    "    precision = precision_score(category_test, y_pred)\n",
    "    \n",
    "    # Evaluate the model on test data and get loss and accuracy.\n",
    "    loss, accuracy = model.evaluate(X_test_padded, category_test, verbose=0)\n",
    "    \n",
    "    print(f\"Accuracy with learning rate {lr}: {accuracy:.4f}\")\n",
    "    print(f\"Precision with learning rate {lr}: {precision:.4f}\")\n",
    "    print(\"-----------------------------------\")\n"
   ]
  },
  {
   "cell_type": "markdown",
   "metadata": {},
   "source": [
    "2. **Batch Size**: Experiment with different batch sizes to find the optimal one.\n",
    "    "
   ]
  },
  {
   "cell_type": "code",
   "execution_count": 110,
   "metadata": {},
   "outputs": [
    {
     "name": "stdout",
     "output_type": "stream",
     "text": [
      "Epoch 1/5\n"
     ]
    },
    {
     "name": "stderr",
     "output_type": "stream",
     "text": [
      "c:\\Users\\Girija\\Desktop\\AI Msc\\BLOCK 04 Research Methods and Applications\\PART B\\ASSESSMENT 3\\SDS_CNN\\.venv\\lib\\site-packages\\keras\\src\\layers\\core\\embedding.py:90: UserWarning: Argument `input_length` is deprecated. Just remove it.\n",
      "  warnings.warn(\n"
     ]
    },
    {
     "name": "stdout",
     "output_type": "stream",
     "text": [
      "\u001b[1m279/279\u001b[0m \u001b[32m━━━━━━━━━━━━━━━━━━━━\u001b[0m\u001b[37m\u001b[0m \u001b[1m7s\u001b[0m 13ms/step - accuracy: 0.8671 - loss: 0.3730 - val_accuracy: 0.9848 - val_loss: 0.0566\n",
      "Epoch 2/5\n",
      "\u001b[1m279/279\u001b[0m \u001b[32m━━━━━━━━━━━━━━━━━━━━\u001b[0m\u001b[37m\u001b[0m \u001b[1m2s\u001b[0m 7ms/step - accuracy: 0.9850 - loss: 0.0503 - val_accuracy: 0.9874 - val_loss: 0.0431\n",
      "Epoch 3/5\n",
      "\u001b[1m279/279\u001b[0m \u001b[32m━━━━━━━━━━━━━━━━━━━━\u001b[0m\u001b[37m\u001b[0m \u001b[1m3s\u001b[0m 10ms/step - accuracy: 0.9942 - loss: 0.0253 - val_accuracy: 0.9892 - val_loss: 0.0395\n",
      "Epoch 4/5\n",
      "\u001b[1m279/279\u001b[0m \u001b[32m━━━━━━━━━━━━━━━━━━━━\u001b[0m\u001b[37m\u001b[0m \u001b[1m4s\u001b[0m 12ms/step - accuracy: 0.9962 - loss: 0.0187 - val_accuracy: 0.9865 - val_loss: 0.0426\n",
      "Epoch 5/5\n",
      "\u001b[1m279/279\u001b[0m \u001b[32m━━━━━━━━━━━━━━━━━━━━\u001b[0m\u001b[37m\u001b[0m \u001b[1m3s\u001b[0m 11ms/step - accuracy: 0.9980 - loss: 0.0085 - val_accuracy: 0.9848 - val_loss: 0.0464\n",
      "\u001b[1m35/35\u001b[0m \u001b[32m━━━━━━━━━━━━━━━━━━━━\u001b[0m\u001b[37m\u001b[0m \u001b[1m1s\u001b[0m 11ms/step\n",
      "Precision with batch size 16: 0.95\n",
      "Accuracy with batch size 16: 0.9848\n",
      "-----------------------------------\n",
      "Epoch 1/5\n"
     ]
    },
    {
     "name": "stderr",
     "output_type": "stream",
     "text": [
      "c:\\Users\\Girija\\Desktop\\AI Msc\\BLOCK 04 Research Methods and Applications\\PART B\\ASSESSMENT 3\\SDS_CNN\\.venv\\lib\\site-packages\\keras\\src\\layers\\core\\embedding.py:90: UserWarning: Argument `input_length` is deprecated. Just remove it.\n",
      "  warnings.warn(\n"
     ]
    },
    {
     "name": "stdout",
     "output_type": "stream",
     "text": [
      "\u001b[1m140/140\u001b[0m \u001b[32m━━━━━━━━━━━━━━━━━━━━\u001b[0m\u001b[37m\u001b[0m \u001b[1m9s\u001b[0m 17ms/step - accuracy: 0.8501 - loss: 0.4204 - val_accuracy: 0.9812 - val_loss: 0.0900\n",
      "Epoch 2/5\n",
      "\u001b[1m140/140\u001b[0m \u001b[32m━━━━━━━━━━━━━━━━━━━━\u001b[0m\u001b[37m\u001b[0m \u001b[1m2s\u001b[0m 15ms/step - accuracy: 0.9820 - loss: 0.0704 - val_accuracy: 0.9865 - val_loss: 0.0488\n",
      "Epoch 3/5\n",
      "\u001b[1m140/140\u001b[0m \u001b[32m━━━━━━━━━━━━━━━━━━━━\u001b[0m\u001b[37m\u001b[0m \u001b[1m3s\u001b[0m 17ms/step - accuracy: 0.9925 - loss: 0.0311 - val_accuracy: 0.9874 - val_loss: 0.0437\n",
      "Epoch 4/5\n",
      "\u001b[1m140/140\u001b[0m \u001b[32m━━━━━━━━━━━━━━━━━━━━\u001b[0m\u001b[37m\u001b[0m \u001b[1m2s\u001b[0m 14ms/step - accuracy: 0.9947 - loss: 0.0227 - val_accuracy: 0.9830 - val_loss: 0.0474\n",
      "Epoch 5/5\n",
      "\u001b[1m140/140\u001b[0m \u001b[32m━━━━━━━━━━━━━━━━━━━━\u001b[0m\u001b[37m\u001b[0m \u001b[1m2s\u001b[0m 14ms/step - accuracy: 0.9960 - loss: 0.0163 - val_accuracy: 0.9821 - val_loss: 0.0479\n",
      "\u001b[1m35/35\u001b[0m \u001b[32m━━━━━━━━━━━━━━━━━━━━\u001b[0m\u001b[37m\u001b[0m \u001b[1m1s\u001b[0m 11ms/step\n",
      "Precision with batch size 32: 0.93\n",
      "Accuracy with batch size 32: 0.9821\n",
      "-----------------------------------\n",
      "Epoch 1/5\n"
     ]
    },
    {
     "name": "stderr",
     "output_type": "stream",
     "text": [
      "c:\\Users\\Girija\\Desktop\\AI Msc\\BLOCK 04 Research Methods and Applications\\PART B\\ASSESSMENT 3\\SDS_CNN\\.venv\\lib\\site-packages\\keras\\src\\layers\\core\\embedding.py:90: UserWarning: Argument `input_length` is deprecated. Just remove it.\n",
      "  warnings.warn(\n"
     ]
    },
    {
     "name": "stdout",
     "output_type": "stream",
     "text": [
      "\u001b[1m70/70\u001b[0m \u001b[32m━━━━━━━━━━━━━━━━━━━━\u001b[0m\u001b[37m\u001b[0m \u001b[1m8s\u001b[0m 29ms/step - accuracy: 0.8686 - loss: 0.4751 - val_accuracy: 0.8664 - val_loss: 0.2699\n",
      "Epoch 2/5\n",
      "\u001b[1m70/70\u001b[0m \u001b[32m━━━━━━━━━━━━━━━━━━━━\u001b[0m\u001b[37m\u001b[0m \u001b[1m2s\u001b[0m 21ms/step - accuracy: 0.9217 - loss: 0.1817 - val_accuracy: 0.9839 - val_loss: 0.0598\n",
      "Epoch 3/5\n",
      "\u001b[1m70/70\u001b[0m \u001b[32m━━━━━━━━━━━━━━━━━━━━\u001b[0m\u001b[37m\u001b[0m \u001b[1m1s\u001b[0m 11ms/step - accuracy: 0.9848 - loss: 0.0525 - val_accuracy: 0.9865 - val_loss: 0.0464\n",
      "Epoch 4/5\n",
      "\u001b[1m70/70\u001b[0m \u001b[32m━━━━━━━━━━━━━━━━━━━━\u001b[0m\u001b[37m\u001b[0m \u001b[1m1s\u001b[0m 17ms/step - accuracy: 0.9909 - loss: 0.0360 - val_accuracy: 0.9874 - val_loss: 0.0435\n",
      "Epoch 5/5\n",
      "\u001b[1m70/70\u001b[0m \u001b[32m━━━━━━━━━━━━━━━━━━━━\u001b[0m\u001b[37m\u001b[0m \u001b[1m1s\u001b[0m 13ms/step - accuracy: 0.9965 - loss: 0.0196 - val_accuracy: 0.9883 - val_loss: 0.0446\n",
      "\u001b[1m35/35\u001b[0m \u001b[32m━━━━━━━━━━━━━━━━━━━━\u001b[0m\u001b[37m\u001b[0m \u001b[1m0s\u001b[0m 6ms/step\n",
      "Precision with batch size 64: 0.97\n",
      "Accuracy with batch size 64: 0.9883\n",
      "-----------------------------------\n",
      "Epoch 1/5\n"
     ]
    },
    {
     "name": "stderr",
     "output_type": "stream",
     "text": [
      "c:\\Users\\Girija\\Desktop\\AI Msc\\BLOCK 04 Research Methods and Applications\\PART B\\ASSESSMENT 3\\SDS_CNN\\.venv\\lib\\site-packages\\keras\\src\\layers\\core\\embedding.py:90: UserWarning: Argument `input_length` is deprecated. Just remove it.\n",
      "  warnings.warn(\n"
     ]
    },
    {
     "name": "stdout",
     "output_type": "stream",
     "text": [
      "\u001b[1m35/35\u001b[0m \u001b[32m━━━━━━━━━━━━━━━━━━━━\u001b[0m\u001b[37m\u001b[0m \u001b[1m2s\u001b[0m 21ms/step - accuracy: 0.8655 - loss: 0.4950 - val_accuracy: 0.8664 - val_loss: 0.3552\n",
      "Epoch 2/5\n",
      "\u001b[1m35/35\u001b[0m \u001b[32m━━━━━━━━━━━━━━━━━━━━\u001b[0m\u001b[37m\u001b[0m \u001b[1m1s\u001b[0m 18ms/step - accuracy: 0.8725 - loss: 0.3119 - val_accuracy: 0.9561 - val_loss: 0.1745\n",
      "Epoch 3/5\n",
      "\u001b[1m35/35\u001b[0m \u001b[32m━━━━━━━━━━━━━━━━━━━━\u001b[0m\u001b[37m\u001b[0m \u001b[1m1s\u001b[0m 18ms/step - accuracy: 0.9725 - loss: 0.1318 - val_accuracy: 0.9848 - val_loss: 0.0674\n",
      "Epoch 4/5\n",
      "\u001b[1m35/35\u001b[0m \u001b[32m━━━━━━━━━━━━━━━━━━━━\u001b[0m\u001b[37m\u001b[0m \u001b[1m1s\u001b[0m 18ms/step - accuracy: 0.9872 - loss: 0.0548 - val_accuracy: 0.9857 - val_loss: 0.0519\n",
      "Epoch 5/5\n",
      "\u001b[1m35/35\u001b[0m \u001b[32m━━━━━━━━━━━━━━━━━━━━\u001b[0m\u001b[37m\u001b[0m \u001b[1m1s\u001b[0m 18ms/step - accuracy: 0.9891 - loss: 0.0425 - val_accuracy: 0.9874 - val_loss: 0.0474\n",
      "\u001b[1m35/35\u001b[0m \u001b[32m━━━━━━━━━━━━━━━━━━━━\u001b[0m\u001b[37m\u001b[0m \u001b[1m0s\u001b[0m 4ms/step\n",
      "Precision with batch size 128: 0.97\n",
      "Accuracy with batch size 128: 0.9874\n",
      "-----------------------------------\n"
     ]
    }
   ],
   "source": [
    "# Initialize a new instance of the LabelEncoder class to convert categorical labels into numerical labels.\n",
    "label_encoder = LabelEncoder()\n",
    "\n",
    "# Assign transformed numerical labels back to the 'Category' column in the data DataFrame.\n",
    "data['Category'] = label_encoder.fit_transform(data['Category'])\n",
    "\n",
    "# Split the dataset into training and testing sets.\n",
    "messages_train, messages_test, categories_train, categories_test = train_test_split(data['Message'], data['Category'], test_size=0.2, random_state=42)\n",
    "\n",
    "# Define the maximum number of unique words to consider in the tokenizer.\n",
    "maximum_words_to_consider = 1000 \n",
    "\n",
    "# Instantiate a Tokenizer object from Keras for tokenizing text data.\n",
    "tokenizer = Tokenizer(num_words=maximum_words_to_consider) \n",
    "\n",
    "# Fit the tokenizer on the training data.\n",
    "tokenizer.fit_on_texts(messages_train)\n",
    "\n",
    "# Convert text data to sequences.\n",
    "X_train_sequences = tokenizer.texts_to_sequences(messages_train)\n",
    "X_test_sequences = tokenizer.texts_to_sequences(messages_test)\n",
    "\n",
    "# Define the maximum sequence length for padding.\n",
    "maximum_sequence_length = 100\n",
    "\n",
    "# Pad sequences to ensure uniform length.\n",
    "X_train_padded = pad_sequences(X_train_sequences, maxlen=maximum_sequence_length)\n",
    "X_test_padded = pad_sequences(X_test_sequences, maxlen=maximum_sequence_length)\n",
    "\n",
    "# Define the embedding dimension, number of filters, and filter size for the CNN model.\n",
    "embedding_dimension = 50\n",
    "number_of_filters = 64\n",
    "filter_kernel_size = 5\n",
    "\n",
    "# Define a list of batch sizes to experiment with.\n",
    "batch_sizes = [16, 32, 64, 128]\n",
    "\n",
    "# Iterate over different batch sizes.\n",
    "for batch_size in batch_sizes:\n",
    "    # Define the CNN model architecture using the Keras Sequential API.\n",
    "    model = Sequential([\n",
    "        Embedding(input_dim=maximum_words_to_consider, output_dim=embedding_dimension, input_length=maximum_sequence_length),   # Embedding Layer\n",
    "        Conv1D(filters=number_of_filters, kernel_size=filter_kernel_size, padding='same', activation='relu'),    # Convolutional Layer 1\n",
    "        GlobalMaxPooling1D(), # Max Pooling Layer 1\n",
    "        Dense(1, activation='sigmoid') # Output Layer\n",
    "    ])\n",
    "    \n",
    "    # Compile the model with binary crossentropy loss and Adam optimizer.\n",
    "    model.compile(optimizer='adam', loss='binary_crossentropy', metrics=['accuracy'])\n",
    "    \n",
    "    # Define the number of epochs for training.\n",
    "    epochs = 5\n",
    "    \n",
    "    # Train the model on the training data with the current batch size.\n",
    "    history = model.fit(X_train_padded, categories_train, batch_size=batch_size, epochs=epochs, validation_data=(X_test_padded, categories_test))\n",
    "    \n",
    "    # Predict probabilities on the test data.\n",
    "    predicted_probabilities = model.predict(X_test_padded)\n",
    "    \n",
    "    # Convert probabilities to binary class labels.\n",
    "    predicted_labels = (predicted_probabilities > 0.5).astype(int)\n",
    "    \n",
    "    # Calculate precision score.\n",
    "    precision = precision_score(categories_test, predicted_labels)\n",
    "    \n",
    "    # Evaluate the model on test data and get loss and accuracy.\n",
    "    loss, accuracy = model.evaluate(X_test_padded, categories_test, verbose=0)\n",
    "    \n",
    "    # Print precision and accuracy for the current batch size.\n",
    "    print(f'Precision with batch size {batch_size}: {precision:.2f}')\n",
    "    print(f\"Accuracy with batch size {batch_size}: {accuracy:.4f}\")\n",
    "    print(\"-----------------------------------\")\n"
   ]
  },
  {
   "cell_type": "markdown",
   "metadata": {},
   "source": [
    "3. **Optimizer Choice**: Compare the performance of different optimizers (SGD, Adam, RMSprop, etc.).\n"
   ]
  },
  {
   "cell_type": "code",
   "execution_count": 111,
   "metadata": {},
   "outputs": [
    {
     "name": "stdout",
     "output_type": "stream",
     "text": [
      "Epoch 1/5\n"
     ]
    },
    {
     "name": "stderr",
     "output_type": "stream",
     "text": [
      "c:\\Users\\Girija\\Desktop\\AI Msc\\BLOCK 04 Research Methods and Applications\\PART B\\ASSESSMENT 3\\SDS_CNN\\.venv\\lib\\site-packages\\keras\\src\\layers\\core\\embedding.py:90: UserWarning: Argument `input_length` is deprecated. Just remove it.\n",
      "  warnings.warn(\n"
     ]
    },
    {
     "name": "stdout",
     "output_type": "stream",
     "text": [
      "\u001b[1m35/35\u001b[0m \u001b[32m━━━━━━━━━━━━━━━━━━━━\u001b[0m\u001b[37m\u001b[0m \u001b[1m2s\u001b[0m 25ms/step - accuracy: 0.8606 - loss: 0.6335 - val_accuracy: 0.8664 - val_loss: 0.5605\n",
      "Epoch 2/5\n",
      "\u001b[1m35/35\u001b[0m \u001b[32m━━━━━━━━━━━━━━━━━━━━\u001b[0m\u001b[37m\u001b[0m \u001b[1m1s\u001b[0m 18ms/step - accuracy: 0.8664 - loss: 0.5429 - val_accuracy: 0.8664 - val_loss: 0.4998\n",
      "Epoch 3/5\n",
      "\u001b[1m35/35\u001b[0m \u001b[32m━━━━━━━━━━━━━━━━━━━━\u001b[0m\u001b[37m\u001b[0m \u001b[1m1s\u001b[0m 17ms/step - accuracy: 0.8719 - loss: 0.4844 - val_accuracy: 0.8664 - val_loss: 0.4604\n",
      "Epoch 4/5\n",
      "\u001b[1m35/35\u001b[0m \u001b[32m━━━━━━━━━━━━━━━━━━━━\u001b[0m\u001b[37m\u001b[0m \u001b[1m1s\u001b[0m 20ms/step - accuracy: 0.8564 - loss: 0.4624 - val_accuracy: 0.8664 - val_loss: 0.4340\n",
      "Epoch 5/5\n",
      "\u001b[1m35/35\u001b[0m \u001b[32m━━━━━━━━━━━━━━━━━━━━\u001b[0m\u001b[37m\u001b[0m \u001b[1m1s\u001b[0m 30ms/step - accuracy: 0.8682 - loss: 0.4267 - val_accuracy: 0.8664 - val_loss: 0.4176\n",
      "\u001b[1m35/35\u001b[0m \u001b[32m━━━━━━━━━━━━━━━━━━━━\u001b[0m\u001b[37m\u001b[0m \u001b[1m1s\u001b[0m 14ms/step\n",
      "Precision with Optimizer SGD: 1.00\n",
      "Accuracy with Optimizer SGD: 0.8664\n",
      "Epoch 1/5\n"
     ]
    },
    {
     "name": "stderr",
     "output_type": "stream",
     "text": [
      "c:\\Users\\Girija\\Desktop\\AI Msc\\BLOCK 04 Research Methods and Applications\\PART B\\ASSESSMENT 3\\SDS_CNN\\.venv\\lib\\site-packages\\keras\\src\\layers\\core\\embedding.py:90: UserWarning: Argument `input_length` is deprecated. Just remove it.\n",
      "  warnings.warn(\n"
     ]
    },
    {
     "name": "stdout",
     "output_type": "stream",
     "text": [
      "\u001b[1m35/35\u001b[0m \u001b[32m━━━━━━━━━━━━━━━━━━━━\u001b[0m\u001b[37m\u001b[0m \u001b[1m7s\u001b[0m 23ms/step - accuracy: 0.7456 - loss: 0.5373 - val_accuracy: 0.8664 - val_loss: 0.3519\n",
      "Epoch 2/5\n",
      "\u001b[1m35/35\u001b[0m \u001b[32m━━━━━━━━━━━━━━━━━━━━\u001b[0m\u001b[37m\u001b[0m \u001b[1m1s\u001b[0m 28ms/step - accuracy: 0.8649 - loss: 0.3176 - val_accuracy: 0.9632 - val_loss: 0.1522\n",
      "Epoch 3/5\n",
      "\u001b[1m35/35\u001b[0m \u001b[32m━━━━━━━━━━━━━━━━━━━━\u001b[0m\u001b[37m\u001b[0m \u001b[1m1s\u001b[0m 32ms/step - accuracy: 0.9749 - loss: 0.1172 - val_accuracy: 0.9830 - val_loss: 0.0640\n",
      "Epoch 4/5\n",
      "\u001b[1m35/35\u001b[0m \u001b[32m━━━━━━━━━━━━━━━━━━━━\u001b[0m\u001b[37m\u001b[0m \u001b[1m2s\u001b[0m 43ms/step - accuracy: 0.9827 - loss: 0.0587 - val_accuracy: 0.9857 - val_loss: 0.0523\n",
      "Epoch 5/5\n",
      "\u001b[1m35/35\u001b[0m \u001b[32m━━━━━━━━━━━━━━━━━━━━\u001b[0m\u001b[37m\u001b[0m \u001b[1m1s\u001b[0m 32ms/step - accuracy: 0.9892 - loss: 0.0419 - val_accuracy: 0.9857 - val_loss: 0.0473\n",
      "\u001b[1m35/35\u001b[0m \u001b[32m━━━━━━━━━━━━━━━━━━━━\u001b[0m\u001b[37m\u001b[0m \u001b[1m1s\u001b[0m 17ms/step\n",
      "Precision with Optimizer Adam: 0.97\n",
      "Accuracy with Optimizer Adam: 0.9857\n"
     ]
    },
    {
     "name": "stderr",
     "output_type": "stream",
     "text": [
      "c:\\Users\\Girija\\Desktop\\AI Msc\\BLOCK 04 Research Methods and Applications\\PART B\\ASSESSMENT 3\\SDS_CNN\\.venv\\lib\\site-packages\\keras\\src\\layers\\core\\embedding.py:90: UserWarning: Argument `input_length` is deprecated. Just remove it.\n",
      "  warnings.warn(\n"
     ]
    },
    {
     "name": "stdout",
     "output_type": "stream",
     "text": [
      "Epoch 1/5\n",
      "\u001b[1m35/35\u001b[0m \u001b[32m━━━━━━━━━━━━━━━━━━━━\u001b[0m\u001b[37m\u001b[0m \u001b[1m10s\u001b[0m 77ms/step - accuracy: 0.7963 - loss: 0.4671 - val_accuracy: 0.8664 - val_loss: 0.3431\n",
      "Epoch 2/5\n",
      "\u001b[1m35/35\u001b[0m \u001b[32m━━━━━━━━━━━━━━━━━━━━\u001b[0m\u001b[37m\u001b[0m \u001b[1m1s\u001b[0m 39ms/step - accuracy: 0.8586 - loss: 0.3237 - val_accuracy: 0.9300 - val_loss: 0.1903\n",
      "Epoch 3/5\n",
      "\u001b[1m35/35\u001b[0m \u001b[32m━━━━━━━━━━━━━━━━━━━━\u001b[0m\u001b[37m\u001b[0m \u001b[1m2s\u001b[0m 41ms/step - accuracy: 0.9483 - loss: 0.1551 - val_accuracy: 0.9713 - val_loss: 0.1016\n",
      "Epoch 4/5\n",
      "\u001b[1m35/35\u001b[0m \u001b[32m━━━━━━━━━━━━━━━━━━━━\u001b[0m\u001b[37m\u001b[0m \u001b[1m2s\u001b[0m 45ms/step - accuracy: 0.9735 - loss: 0.0907 - val_accuracy: 0.9785 - val_loss: 0.0726\n",
      "Epoch 5/5\n",
      "\u001b[1m35/35\u001b[0m \u001b[32m━━━━━━━━━━━━━━━━━━━━\u001b[0m\u001b[37m\u001b[0m \u001b[1m2s\u001b[0m 35ms/step - accuracy: 0.9834 - loss: 0.0616 - val_accuracy: 0.9812 - val_loss: 0.0621\n",
      "\u001b[1m35/35\u001b[0m \u001b[32m━━━━━━━━━━━━━━━━━━━━\u001b[0m\u001b[37m\u001b[0m \u001b[1m1s\u001b[0m 11ms/step\n",
      "Precision with Optimizer RMSprop: 0.98\n",
      "Accuracy with Optimizer RMSprop: 0.9812\n"
     ]
    }
   ],
   "source": [
    "# Initialize a LabelEncoder to convert categorical labels into numerical labels\n",
    "label_encoder = LabelEncoder()\n",
    "\n",
    "# Transform categorical labels into numerical labels and assign them back to the 'Category' column\n",
    "data['Category'] = label_encoder.fit_transform(data['Category'])\n",
    "\n",
    "# Split the dataset into training and testing sets\n",
    "training_data, testing_data, training_labels, testing_labels = train_test_split(data['Message'], data['Category'], test_size=0.2, random_state=42)\n",
    "\n",
    "# Tokenize the text data\n",
    "maximum_words_to_consider = 1000  # Maximum number of unique words to consider in the tokenizer\n",
    "tokenizer = Tokenizer(num_words=maximum_words_to_consider)  # Initialize a tokenizer with a maximum number of words\n",
    "tokenizer.fit_on_texts(training_data)  # Fit the tokenizer on the training data\n",
    "training_data_sequences = tokenizer.texts_to_sequences(training_data)  # Convert training text data to sequences\n",
    "testing_data_sequences = tokenizer.texts_to_sequences(testing_data)  # Convert testing text data to sequences\n",
    "\n",
    "# Pad sequences to ensure uniform length\n",
    "maximum_sequence_length = 100  # Maximum length of sequences\n",
    "padded_training_data = pad_sequences(training_data_sequences, maxlen=maximum_sequence_length)  # Pad training sequences\n",
    "padded_testing_data = pad_sequences(testing_data_sequences, maxlen=maximum_sequence_length)  # Pad testing sequences\n",
    "\n",
    "# Build the CNN model\n",
    "embedding_dimension = 50  # Dimensionality of word embeddings\n",
    "number_of_filters = 64  # Number of filters in the convolutional layer\n",
    "filter_kernel_size = 5  # Size of the convolutional filters\n",
    "\n",
    "# List of optimizers to compare\n",
    "optimizers = [SGD(), Adam(), RMSprop()]\n",
    "\n",
    "# Iterate over each optimizer\n",
    "for optimizer in optimizers:\n",
    "    # Define the CNN model architecture\n",
    "    model = Sequential([\n",
    "        Embedding(input_dim=maximum_words_to_consider, output_dim=embedding_dimension, input_length=maximum_sequence_length),   # Embedding Layer\n",
    "        Conv1D(filters=number_of_filters, kernel_size=filter_kernel_size, padding='same', activation='relu'),    # Convolutional Layer\n",
    "        GlobalMaxPooling1D(),  # Max Pooling Layer\n",
    "        Dense(1, activation='sigmoid')  # Output Layer\n",
    "    ])\n",
    "\n",
    "    # Compile the model with the current optimizer\n",
    "    model.compile(optimizer=optimizer, loss='binary_crossentropy', metrics=['accuracy'])\n",
    "\n",
    "    # Train the model\n",
    "    epochs = 5  # Number of epochs for training\n",
    "    history = model.fit(padded_training_data, training_labels, batch_size=batch_size, epochs=epochs, validation_data=(padded_testing_data, testing_labels))\n",
    "\n",
    "    # Predict probabilities\n",
    "    y_pred_prob = model.predict(padded_testing_data)\n",
    "\n",
    "    # Convert probabilities to binary class labels\n",
    "    y_pred = (y_pred_prob > 0.5).astype(int)\n",
    "\n",
    "    # Calculate precision\n",
    "    precision = precision_score(testing_labels, y_pred, zero_division=1)\n",
    "\n",
    "    # Evaluate the model\n",
    "    loss, accuracy = model.evaluate(padded_testing_data, testing_labels, verbose=0)\n",
    "\n",
    "    # Print precision and accuracy for the current optimizer\n",
    "    print(f'Precision with Optimizer {optimizer.__class__.__name__}: {precision:.2f}')\n",
    "    print(f\"Accuracy with Optimizer {optimizer.__class__.__name__}: {accuracy:.4f}\")\n"
   ]
  },
  {
   "cell_type": "markdown",
   "metadata": {},
   "source": [
    "4. ***DIfferent Activation Functions***"
   ]
  },
  {
   "cell_type": "code",
   "execution_count": 112,
   "metadata": {},
   "outputs": [
    {
     "name": "stderr",
     "output_type": "stream",
     "text": [
      "c:\\Users\\Girija\\Desktop\\AI Msc\\BLOCK 04 Research Methods and Applications\\PART B\\ASSESSMENT 3\\SDS_CNN\\.venv\\lib\\site-packages\\keras\\src\\layers\\core\\embedding.py:90: UserWarning: Argument `input_length` is deprecated. Just remove it.\n",
      "  warnings.warn(\n"
     ]
    },
    {
     "name": "stdout",
     "output_type": "stream",
     "text": [
      "Epoch 1/5\n",
      "\u001b[1m70/70\u001b[0m \u001b[32m━━━━━━━━━━━━━━━━━━━━\u001b[0m\u001b[37m\u001b[0m \u001b[1m8s\u001b[0m 28ms/step - accuracy: 0.6986 - loss: 0.5363 - val_accuracy: 0.8753 - val_loss: 0.2426\n",
      "Epoch 2/5\n",
      "\u001b[1m70/70\u001b[0m \u001b[32m━━━━━━━━━━━━━━━━━━━━\u001b[0m\u001b[37m\u001b[0m \u001b[1m2s\u001b[0m 21ms/step - accuracy: 0.9408 - loss: 0.1633 - val_accuracy: 0.9857 - val_loss: 0.0565\n",
      "Epoch 3/5\n",
      "\u001b[1m70/70\u001b[0m \u001b[32m━━━━━━━━━━━━━━━━━━━━\u001b[0m\u001b[37m\u001b[0m \u001b[1m1s\u001b[0m 19ms/step - accuracy: 0.9859 - loss: 0.0478 - val_accuracy: 0.9874 - val_loss: 0.0441\n",
      "Epoch 4/5\n",
      "\u001b[1m70/70\u001b[0m \u001b[32m━━━━━━━━━━━━━━━━━━━━\u001b[0m\u001b[37m\u001b[0m \u001b[1m2s\u001b[0m 24ms/step - accuracy: 0.9920 - loss: 0.0307 - val_accuracy: 0.9883 - val_loss: 0.0441\n",
      "Epoch 5/5\n",
      "\u001b[1m70/70\u001b[0m \u001b[32m━━━━━━━━━━━━━━━━━━━━\u001b[0m\u001b[37m\u001b[0m \u001b[1m1s\u001b[0m 17ms/step - accuracy: 0.9953 - loss: 0.0195 - val_accuracy: 0.9865 - val_loss: 0.0457\n",
      "\u001b[1m35/35\u001b[0m \u001b[32m━━━━━━━━━━━━━━━━━━━━\u001b[0m\u001b[37m\u001b[0m \u001b[1m1s\u001b[0m 9ms/step\n",
      "Precision with Activation: relu: 0.95\n",
      "Accuracy with Activation: relu: 0.9865\n"
     ]
    },
    {
     "name": "stderr",
     "output_type": "stream",
     "text": [
      "c:\\Users\\Girija\\Desktop\\AI Msc\\BLOCK 04 Research Methods and Applications\\PART B\\ASSESSMENT 3\\SDS_CNN\\.venv\\lib\\site-packages\\keras\\src\\layers\\core\\embedding.py:90: UserWarning: Argument `input_length` is deprecated. Just remove it.\n",
      "  warnings.warn(\n"
     ]
    },
    {
     "name": "stdout",
     "output_type": "stream",
     "text": [
      "Epoch 1/5\n",
      "\u001b[1m70/70\u001b[0m \u001b[32m━━━━━━━━━━━━━━━━━━━━\u001b[0m\u001b[37m\u001b[0m \u001b[1m4s\u001b[0m 20ms/step - accuracy: 0.7705 - loss: 0.4963 - val_accuracy: 0.9381 - val_loss: 0.1782\n",
      "Epoch 2/5\n",
      "\u001b[1m70/70\u001b[0m \u001b[32m━━━━━━━━━━━━━━━━━━━━\u001b[0m\u001b[37m\u001b[0m \u001b[1m1s\u001b[0m 11ms/step - accuracy: 0.9670 - loss: 0.1172 - val_accuracy: 0.9892 - val_loss: 0.0579\n",
      "Epoch 3/5\n",
      "\u001b[1m70/70\u001b[0m \u001b[32m━━━━━━━━━━━━━━━━━━━━\u001b[0m\u001b[37m\u001b[0m \u001b[1m1s\u001b[0m 13ms/step - accuracy: 0.9848 - loss: 0.0510 - val_accuracy: 0.9874 - val_loss: 0.0502\n",
      "Epoch 4/5\n",
      "\u001b[1m70/70\u001b[0m \u001b[32m━━━━━━━━━━━━━━━━━━━━\u001b[0m\u001b[37m\u001b[0m \u001b[1m1s\u001b[0m 11ms/step - accuracy: 0.9920 - loss: 0.0309 - val_accuracy: 0.9874 - val_loss: 0.0487\n",
      "Epoch 5/5\n",
      "\u001b[1m70/70\u001b[0m \u001b[32m━━━━━━━━━━━━━━━━━━━━\u001b[0m\u001b[37m\u001b[0m \u001b[1m1s\u001b[0m 12ms/step - accuracy: 0.9923 - loss: 0.0249 - val_accuracy: 0.9848 - val_loss: 0.0512\n",
      "\u001b[1m35/35\u001b[0m \u001b[32m━━━━━━━━━━━━━━━━━━━━\u001b[0m\u001b[37m\u001b[0m \u001b[1m0s\u001b[0m 5ms/step\n",
      "Precision with Activation: tanh: 0.95\n",
      "Accuracy with Activation: tanh: 0.9848\n",
      "Epoch 1/5\n"
     ]
    },
    {
     "name": "stderr",
     "output_type": "stream",
     "text": [
      "c:\\Users\\Girija\\Desktop\\AI Msc\\BLOCK 04 Research Methods and Applications\\PART B\\ASSESSMENT 3\\SDS_CNN\\.venv\\lib\\site-packages\\keras\\src\\layers\\core\\embedding.py:90: UserWarning: Argument `input_length` is deprecated. Just remove it.\n",
      "  warnings.warn(\n"
     ]
    },
    {
     "name": "stdout",
     "output_type": "stream",
     "text": [
      "\u001b[1m70/70\u001b[0m \u001b[32m━━━━━━━━━━━━━━━━━━━━\u001b[0m\u001b[37m\u001b[0m \u001b[1m3s\u001b[0m 16ms/step - accuracy: 0.8673 - loss: 0.4556 - val_accuracy: 0.8664 - val_loss: 0.3540\n",
      "Epoch 2/5\n",
      "\u001b[1m70/70\u001b[0m \u001b[32m━━━━━━━━━━━━━━━━━━━━\u001b[0m\u001b[37m\u001b[0m \u001b[1m1s\u001b[0m 14ms/step - accuracy: 0.8700 - loss: 0.3072 - val_accuracy: 0.9614 - val_loss: 0.1700\n",
      "Epoch 3/5\n",
      "\u001b[1m70/70\u001b[0m \u001b[32m━━━━━━━━━━━━━━━━━━━━\u001b[0m\u001b[37m\u001b[0m \u001b[1m1s\u001b[0m 11ms/step - accuracy: 0.9738 - loss: 0.1378 - val_accuracy: 0.9865 - val_loss: 0.0943\n",
      "Epoch 4/5\n",
      "\u001b[1m70/70\u001b[0m \u001b[32m━━━━━━━━━━━━━━━━━━━━\u001b[0m\u001b[37m\u001b[0m \u001b[1m1s\u001b[0m 12ms/step - accuracy: 0.9839 - loss: 0.0852 - val_accuracy: 0.9848 - val_loss: 0.0713\n",
      "Epoch 5/5\n",
      "\u001b[1m70/70\u001b[0m \u001b[32m━━━━━━━━━━━━━━━━━━━━\u001b[0m\u001b[37m\u001b[0m \u001b[1m1s\u001b[0m 12ms/step - accuracy: 0.9899 - loss: 0.0548 - val_accuracy: 0.9865 - val_loss: 0.0615\n",
      "\u001b[1m35/35\u001b[0m \u001b[32m━━━━━━━━━━━━━━━━━━━━\u001b[0m\u001b[37m\u001b[0m \u001b[1m1s\u001b[0m 15ms/step\n",
      "Precision with Activation: sigmoid: 0.97\n",
      "Accuracy with Activation: sigmoid: 0.9865\n"
     ]
    },
    {
     "name": "stderr",
     "output_type": "stream",
     "text": [
      "c:\\Users\\Girija\\Desktop\\AI Msc\\BLOCK 04 Research Methods and Applications\\PART B\\ASSESSMENT 3\\SDS_CNN\\.venv\\lib\\site-packages\\keras\\src\\layers\\core\\embedding.py:90: UserWarning: Argument `input_length` is deprecated. Just remove it.\n",
      "  warnings.warn(\n"
     ]
    },
    {
     "name": "stdout",
     "output_type": "stream",
     "text": [
      "Epoch 1/5\n",
      "\u001b[1m70/70\u001b[0m \u001b[32m━━━━━━━━━━━━━━━━━━━━\u001b[0m\u001b[37m\u001b[0m \u001b[1m8s\u001b[0m 22ms/step - accuracy: 0.8433 - loss: 0.4723 - val_accuracy: 0.9184 - val_loss: 0.1967\n",
      "Epoch 2/5\n",
      "\u001b[1m70/70\u001b[0m \u001b[32m━━━━━━━━━━━━━━━━━━━━\u001b[0m\u001b[37m\u001b[0m \u001b[1m1s\u001b[0m 16ms/step - accuracy: 0.9629 - loss: 0.1256 - val_accuracy: 0.9874 - val_loss: 0.0533\n",
      "Epoch 3/5\n",
      "\u001b[1m70/70\u001b[0m \u001b[32m━━━━━━━━━━━━━━━━━━━━\u001b[0m\u001b[37m\u001b[0m \u001b[1m2s\u001b[0m 24ms/step - accuracy: 0.9869 - loss: 0.0431 - val_accuracy: 0.9874 - val_loss: 0.0474\n",
      "Epoch 4/5\n",
      "\u001b[1m70/70\u001b[0m \u001b[32m━━━━━━━━━━━━━━━━━━━━\u001b[0m\u001b[37m\u001b[0m \u001b[1m1s\u001b[0m 18ms/step - accuracy: 0.9910 - loss: 0.0364 - val_accuracy: 0.9848 - val_loss: 0.0459\n",
      "Epoch 5/5\n",
      "\u001b[1m70/70\u001b[0m \u001b[32m━━━━━━━━━━━━━━━━━━━━\u001b[0m\u001b[37m\u001b[0m \u001b[1m1s\u001b[0m 19ms/step - accuracy: 0.9964 - loss: 0.0187 - val_accuracy: 0.9830 - val_loss: 0.0461\n",
      "\u001b[1m35/35\u001b[0m \u001b[32m━━━━━━━━━━━━━━━━━━━━\u001b[0m\u001b[37m\u001b[0m \u001b[1m1s\u001b[0m 17ms/step\n",
      "Precision with Activation: elu: 0.95\n",
      "Accuracy with Activation: elu: 0.9830\n"
     ]
    }
   ],
   "source": [
    "# Convert categorical labels to numerical labels\n",
    "label_encoder = LabelEncoder()\n",
    "data['Category'] = label_encoder.fit_transform(data['Category'])\n",
    "\n",
    "# Split data into training and testing sets\n",
    "messages_train, messages_test, categories_train, categories_test = train_test_split(data['Message'], data['Category'], test_size=0.2, random_state=42)\n",
    "\n",
    "# Tokenize the text data\n",
    "maximum_words_to_consider = 1000\n",
    "tokenizer = Tokenizer(num_words=maximum_words_to_consider)\n",
    "tokenizer.fit_on_texts(messages_train)\n",
    "messages_train_sequences = tokenizer.texts_to_sequences(messages_train)\n",
    "messages_test_sequences = tokenizer.texts_to_sequences(messages_test)\n",
    "\n",
    "# Pad sequences to ensure uniform length\n",
    "maximum_sequence_length = 100\n",
    "messages_train_padded = pad_sequences(messages_train_sequences, maxlen=maximum_sequence_length)\n",
    "messages_test_padded = pad_sequences(messages_test_sequences, maxlen=maximum_sequence_length)\n",
    "\n",
    "# Set parameters for the CNN model\n",
    "embedding_dimension = 50\n",
    "number_of_filters = 64\n",
    "filter_kernel_size = 5\n",
    "batch_size = 64\n",
    "\n",
    "# Test different activation functions for the CNN model\n",
    "activation_functions = ['relu', 'tanh', 'sigmoid', 'elu']\n",
    "for activation in activation_functions:\n",
    "    # Define the CNN model architecture\n",
    "    model = Sequential([\n",
    "        Embedding(input_dim=maximum_words_to_consider, output_dim=embedding_dimension, input_length=maximum_sequence_length),   \n",
    "        Conv1D(filters=number_of_filters, kernel_size=filter_kernel_size, padding='same', activation=activation),    \n",
    "        GlobalMaxPooling1D(), \n",
    "        Dense(1, activation='sigmoid') \n",
    "    ])\n",
    "    \n",
    "    # Compile the model\n",
    "    model.compile(optimizer=\"adam\", loss='binary_crossentropy', metrics=['accuracy'])\n",
    "    \n",
    "    # Train the model\n",
    "    epochs = 5\n",
    "    history = model.fit(messages_train_padded, categories_train, batch_size=batch_size, epochs=epochs, validation_data=(messages_test_padded, categories_test))\n",
    "    \n",
    "    # Predict probabilities\n",
    "    y_pred_prob = model.predict(messages_test_padded)\n",
    "    \n",
    "    # Convert probabilities to binary class labels\n",
    "    y_pred = (y_pred_prob > 0.5).astype(int)\n",
    "    \n",
    "    # Calculate precision\n",
    "    precision = precision_score(categories_test, y_pred)\n",
    "    \n",
    "    # Evaluate the model\n",
    "    loss, accuracy = model.evaluate(messages_test_padded, categories_test, verbose=0)\n",
    "    \n",
    "    # Print precision and accuracy for each activation function\n",
    "    print(f'Precision with Activation: {activation}: {precision:.2f}')\n",
    "    print(f\"Accuracy with Activation: {activation}: {accuracy:.4f}\")\n"
   ]
  }
 ],
 "metadata": {
  "kernelspec": {
   "display_name": ".vnev",
   "language": "python",
   "name": "python3"
  },
  "language_info": {
   "codemirror_mode": {
    "name": "ipython",
    "version": 3
   },
   "file_extension": ".py",
   "mimetype": "text/x-python",
   "name": "python",
   "nbconvert_exporter": "python",
   "pygments_lexer": "ipython3",
   "version": "3.10.4"
  }
 },
 "nbformat": 4,
 "nbformat_minor": 2
}
